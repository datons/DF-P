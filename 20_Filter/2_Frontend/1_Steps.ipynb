{
 "cells": [
  {
   "cell_type": "markdown",
   "id": "a6a4a93f",
   "metadata": {
    "papermill": {
     "duration": 0.002233,
     "end_time": "2024-06-15T23:13:16.234629",
     "exception": false,
     "start_time": "2024-06-15T23:13:16.232396",
     "status": "completed"
    },
    "tags": []
   },
   "source": [
    "# Script FrontEnd: User Interface"
   ]
  },
  {
   "cell_type": "markdown",
   "id": "692595ab",
   "metadata": {
    "papermill": {
     "duration": 0.001612,
     "end_time": "2024-06-15T23:13:16.238221",
     "exception": false,
     "start_time": "2024-06-15T23:13:16.236609",
     "status": "completed"
    },
    "tags": []
   },
   "source": [
    "## Load data"
   ]
  },
  {
   "cell_type": "code",
   "execution_count": null,
   "id": "15aed9fb",
   "metadata": {
    "execution": {
     "iopub.execute_input": "2024-06-15T23:13:16.241625Z",
     "iopub.status.busy": "2024-06-15T23:13:16.241441Z",
     "iopub.status.idle": "2024-06-15T23:13:16.251504Z",
     "shell.execute_reply": "2024-06-15T23:13:16.251220Z"
    },
    "papermill": {
     "duration": 0.012867,
     "end_time": "2024-06-15T23:13:16.252439",
     "exception": false,
     "start_time": "2024-06-15T23:13:16.239572",
     "status": "completed"
    },
    "tags": []
   },
   "outputs": [
    {
     "data": {
      "text/html": [
       "<div>\n",
       "<style scoped>\n",
       "    .dataframe tbody tr th:only-of-type {\n",
       "        vertical-align: middle;\n",
       "    }\n",
       "\n",
       "    .dataframe tbody tr th {\n",
       "        vertical-align: top;\n",
       "    }\n",
       "\n",
       "    .dataframe thead th {\n",
       "        text-align: right;\n",
       "    }\n",
       "</style>\n",
       "<table border=\"1\" class=\"dataframe\">\n",
       "  <thead>\n",
       "    <tr style=\"text-align: right;\">\n",
       "      <th></th>\n",
       "      <th>country</th>\n",
       "      <th>continent</th>\n",
       "      <th>year</th>\n",
       "      <th>lifeExp</th>\n",
       "      <th>pop</th>\n",
       "      <th>gdpPercap</th>\n",
       "      <th>iso_alpha</th>\n",
       "      <th>iso_num</th>\n",
       "    </tr>\n",
       "  </thead>\n",
       "  <tbody>\n",
       "    <tr>\n",
       "      <th>0</th>\n",
       "      <td>Afghanistan</td>\n",
       "      <td>Asia</td>\n",
       "      <td>1952</td>\n",
       "      <td>28.801</td>\n",
       "      <td>8425333</td>\n",
       "      <td>779.445314</td>\n",
       "      <td>AFG</td>\n",
       "      <td>4</td>\n",
       "    </tr>\n",
       "    <tr>\n",
       "      <th>1</th>\n",
       "      <td>Afghanistan</td>\n",
       "      <td>Asia</td>\n",
       "      <td>1957</td>\n",
       "      <td>30.332</td>\n",
       "      <td>9240934</td>\n",
       "      <td>820.853030</td>\n",
       "      <td>AFG</td>\n",
       "      <td>4</td>\n",
       "    </tr>\n",
       "    <tr>\n",
       "      <th>...</th>\n",
       "      <td>...</td>\n",
       "      <td>...</td>\n",
       "      <td>...</td>\n",
       "      <td>...</td>\n",
       "      <td>...</td>\n",
       "      <td>...</td>\n",
       "      <td>...</td>\n",
       "      <td>...</td>\n",
       "    </tr>\n",
       "    <tr>\n",
       "      <th>1702</th>\n",
       "      <td>Zimbabwe</td>\n",
       "      <td>Africa</td>\n",
       "      <td>2002</td>\n",
       "      <td>39.989</td>\n",
       "      <td>11926563</td>\n",
       "      <td>672.038623</td>\n",
       "      <td>ZWE</td>\n",
       "      <td>716</td>\n",
       "    </tr>\n",
       "    <tr>\n",
       "      <th>1703</th>\n",
       "      <td>Zimbabwe</td>\n",
       "      <td>Africa</td>\n",
       "      <td>2007</td>\n",
       "      <td>43.487</td>\n",
       "      <td>12311143</td>\n",
       "      <td>469.709298</td>\n",
       "      <td>ZWE</td>\n",
       "      <td>716</td>\n",
       "    </tr>\n",
       "  </tbody>\n",
       "</table>\n",
       "<p>1704 rows × 8 columns</p>\n",
       "</div>"
      ],
      "text/plain": [
       "          country continent  year  lifeExp       pop   gdpPercap iso_alpha  \\\n",
       "0     Afghanistan      Asia  1952   28.801   8425333  779.445314       AFG   \n",
       "1     Afghanistan      Asia  1957   30.332   9240934  820.853030       AFG   \n",
       "...           ...       ...   ...      ...       ...         ...       ...   \n",
       "1702     Zimbabwe    Africa  2002   39.989  11926563  672.038623       ZWE   \n",
       "1703     Zimbabwe    Africa  2007   43.487  12311143  469.709298       ZWE   \n",
       "\n",
       "      iso_num  \n",
       "0           4  \n",
       "1           4  \n",
       "...       ...  \n",
       "1702      716  \n",
       "1703      716  \n",
       "\n",
       "[1704 rows x 8 columns]"
      ]
     },
     "execution_count": null,
     "metadata": {},
     "output_type": "execute_result"
    }
   ],
   "source": []
  },
  {
   "cell_type": "markdown",
   "id": "152539eb",
   "metadata": {
    "papermill": {
     "duration": 0.001204,
     "end_time": "2024-06-15T23:13:16.255390",
     "exception": false,
     "start_time": "2024-06-15T23:13:16.254186",
     "status": "completed"
    },
    "tags": [],
    "vscode": {
     "languageId": "plaintext"
    }
   },
   "source": [
    "## Streamlit widgets\n",
    "\n",
    "https://docs.streamlit.io/develop/api-reference/widgets"
   ]
  },
  {
   "cell_type": "code",
   "execution_count": null,
   "id": "03652e1c",
   "metadata": {
    "execution": {
     "iopub.execute_input": "2024-06-15T23:13:16.258083Z",
     "iopub.status.busy": "2024-06-15T23:13:16.257972Z",
     "iopub.status.idle": "2024-06-15T23:13:16.350070Z",
     "shell.execute_reply": "2024-06-15T23:13:16.349760Z"
    },
    "papermill": {
     "duration": 0.094716,
     "end_time": "2024-06-15T23:13:16.351167",
     "exception": false,
     "start_time": "2024-06-15T23:13:16.256451",
     "status": "completed"
    },
    "tags": []
   },
   "outputs": [],
   "source": []
  },
  {
   "cell_type": "markdown",
   "id": "231221e2",
   "metadata": {
    "papermill": {
     "duration": 0.001143,
     "end_time": "2024-06-15T23:13:16.353842",
     "exception": false,
     "start_time": "2024-06-15T23:13:16.352699",
     "status": "completed"
    },
    "tags": []
   },
   "source": [
    "### Possible values"
   ]
  },
  {
   "cell_type": "code",
   "execution_count": null,
   "id": "4e347669",
   "metadata": {
    "execution": {
     "iopub.execute_input": "2024-06-15T23:13:16.356541Z",
     "iopub.status.busy": "2024-06-15T23:13:16.356373Z",
     "iopub.status.idle": "2024-06-15T23:13:16.358624Z",
     "shell.execute_reply": "2024-06-15T23:13:16.358408Z"
    },
    "papermill": {
     "duration": 0.004341,
     "end_time": "2024-06-15T23:13:16.359300",
     "exception": false,
     "start_time": "2024-06-15T23:13:16.354959",
     "status": "completed"
    },
    "tags": []
   },
   "outputs": [
    {
     "data": {
      "text/plain": [
       "array([1952, 1957, 1962, 1967, 1972, 1977, 1982, 1987, 1992, 1997, 2002,\n",
       "       2007])"
      ]
     },
     "execution_count": null,
     "metadata": {},
     "output_type": "execute_result"
    }
   ],
   "source": []
  },
  {
   "cell_type": "markdown",
   "id": "4be45bb2",
   "metadata": {
    "papermill": {
     "duration": 0.000877,
     "end_time": "2024-06-15T23:13:16.361157",
     "exception": false,
     "start_time": "2024-06-15T23:13:16.360280",
     "status": "completed"
    },
    "tags": []
   },
   "source": [
    "### Streamlit widget"
   ]
  },
  {
   "cell_type": "code",
   "execution_count": null,
   "id": "9ecb655e",
   "metadata": {
    "execution": {
     "iopub.execute_input": "2024-06-15T23:13:16.363676Z",
     "iopub.status.busy": "2024-06-15T23:13:16.363570Z",
     "iopub.status.idle": "2024-06-15T23:13:16.388712Z",
     "shell.execute_reply": "2024-06-15T23:13:16.388511Z"
    },
    "papermill": {
     "duration": 0.027389,
     "end_time": "2024-06-15T23:13:16.389496",
     "exception": false,
     "start_time": "2024-06-15T23:13:16.362107",
     "status": "completed"
    },
    "tags": []
   },
   "outputs": [
    {
     "execution_count": null,
     "name": "stderr",
     "output_type": "stream",
     "text": [
      "2024-06-16 01:13:16.364 WARNING streamlit.runtime.state.session_state_proxy: Session state does not function when running a script without `streamlit run`\n"
     ]
    },
    {
     "execution_count": null,
     "name": "stderr",
     "output_type": "stream",
     "text": [
      "2024-06-16 01:13:16.386 \n",
      "  \u001b[33m\u001b[1mWarning:\u001b[0m to view this Streamlit app on a browser, run it with the following\n",
      "  command:\n",
      "\n",
      "    streamlit run /Users/sota/miniforge3/envs/work/lib/python3.12/site-packages/ipykernel_launcher.py [ARGUMENTS]\n"
     ]
    },
    {
     "data": {
      "text/plain": [
       "1952"
      ]
     },
     "execution_count": null,
     "metadata": {},
     "output_type": "execute_result"
    }
   ],
   "source": []
  },
  {
   "cell_type": "markdown",
   "id": "d2bce172",
   "metadata": {
    "papermill": {
     "duration": 0.000948,
     "end_time": "2024-06-15T23:13:16.391542",
     "exception": false,
     "start_time": "2024-06-15T23:13:16.390594",
     "status": "completed"
    },
    "tags": []
   },
   "source": [
    "### Masking"
   ]
  },
  {
   "cell_type": "code",
   "execution_count": null,
   "id": "28ba762e",
   "metadata": {
    "execution": {
     "iopub.execute_input": "2024-06-15T23:13:16.394272Z",
     "iopub.status.busy": "2024-06-15T23:13:16.394133Z",
     "iopub.status.idle": "2024-06-15T23:13:16.398828Z",
     "shell.execute_reply": "2024-06-15T23:13:16.398557Z"
    },
    "papermill": {
     "duration": 0.007134,
     "end_time": "2024-06-15T23:13:16.399578",
     "exception": false,
     "start_time": "2024-06-15T23:13:16.392444",
     "status": "completed"
    },
    "tags": []
   },
   "outputs": [
    {
     "data": {
      "text/html": [
       "<div>\n",
       "<style scoped>\n",
       "    .dataframe tbody tr th:only-of-type {\n",
       "        vertical-align: middle;\n",
       "    }\n",
       "\n",
       "    .dataframe tbody tr th {\n",
       "        vertical-align: top;\n",
       "    }\n",
       "\n",
       "    .dataframe thead th {\n",
       "        text-align: right;\n",
       "    }\n",
       "</style>\n",
       "<table border=\"1\" class=\"dataframe\">\n",
       "  <thead>\n",
       "    <tr style=\"text-align: right;\">\n",
       "      <th></th>\n",
       "      <th>country</th>\n",
       "      <th>continent</th>\n",
       "      <th>year</th>\n",
       "      <th>lifeExp</th>\n",
       "      <th>pop</th>\n",
       "      <th>gdpPercap</th>\n",
       "      <th>iso_alpha</th>\n",
       "      <th>iso_num</th>\n",
       "    </tr>\n",
       "  </thead>\n",
       "  <tbody>\n",
       "    <tr>\n",
       "      <th>0</th>\n",
       "      <td>Afghanistan</td>\n",
       "      <td>Asia</td>\n",
       "      <td>1952</td>\n",
       "      <td>28.801</td>\n",
       "      <td>8425333</td>\n",
       "      <td>779.445314</td>\n",
       "      <td>AFG</td>\n",
       "      <td>4</td>\n",
       "    </tr>\n",
       "    <tr>\n",
       "      <th>12</th>\n",
       "      <td>Albania</td>\n",
       "      <td>Europe</td>\n",
       "      <td>1952</td>\n",
       "      <td>55.230</td>\n",
       "      <td>1282697</td>\n",
       "      <td>1601.056136</td>\n",
       "      <td>ALB</td>\n",
       "      <td>8</td>\n",
       "    </tr>\n",
       "    <tr>\n",
       "      <th>...</th>\n",
       "      <td>...</td>\n",
       "      <td>...</td>\n",
       "      <td>...</td>\n",
       "      <td>...</td>\n",
       "      <td>...</td>\n",
       "      <td>...</td>\n",
       "      <td>...</td>\n",
       "      <td>...</td>\n",
       "    </tr>\n",
       "    <tr>\n",
       "      <th>1680</th>\n",
       "      <td>Zambia</td>\n",
       "      <td>Africa</td>\n",
       "      <td>1952</td>\n",
       "      <td>42.038</td>\n",
       "      <td>2672000</td>\n",
       "      <td>1147.388831</td>\n",
       "      <td>ZMB</td>\n",
       "      <td>894</td>\n",
       "    </tr>\n",
       "    <tr>\n",
       "      <th>1692</th>\n",
       "      <td>Zimbabwe</td>\n",
       "      <td>Africa</td>\n",
       "      <td>1952</td>\n",
       "      <td>48.451</td>\n",
       "      <td>3080907</td>\n",
       "      <td>406.884115</td>\n",
       "      <td>ZWE</td>\n",
       "      <td>716</td>\n",
       "    </tr>\n",
       "  </tbody>\n",
       "</table>\n",
       "<p>142 rows × 8 columns</p>\n",
       "</div>"
      ],
      "text/plain": [
       "          country continent  year  lifeExp      pop    gdpPercap iso_alpha  \\\n",
       "0     Afghanistan      Asia  1952   28.801  8425333   779.445314       AFG   \n",
       "12        Albania    Europe  1952   55.230  1282697  1601.056136       ALB   \n",
       "...           ...       ...   ...      ...      ...          ...       ...   \n",
       "1680       Zambia    Africa  1952   42.038  2672000  1147.388831       ZMB   \n",
       "1692     Zimbabwe    Africa  1952   48.451  3080907   406.884115       ZWE   \n",
       "\n",
       "      iso_num  \n",
       "0           4  \n",
       "12          8  \n",
       "...       ...  \n",
       "1680      894  \n",
       "1692      716  \n",
       "\n",
       "[142 rows x 8 columns]"
      ]
     },
     "execution_count": null,
     "metadata": {},
     "output_type": "execute_result"
    }
   ],
   "source": []
  },
  {
   "cell_type": "markdown",
   "id": "4fdcd732",
   "metadata": {
    "papermill": {
     "duration": 0.004785,
     "end_time": "2024-06-15T23:13:16.405936",
     "exception": false,
     "start_time": "2024-06-15T23:13:16.401151",
     "status": "completed"
    },
    "tags": []
   },
   "source": [
    "## Generate plot"
   ]
  },
  {
   "cell_type": "code",
   "execution_count": null,
   "id": "39862561",
   "metadata": {
    "execution": {
     "iopub.execute_input": "2024-06-15T23:13:16.412919Z",
     "iopub.status.busy": "2024-06-15T23:13:16.412707Z",
     "iopub.status.idle": "2024-06-15T23:13:16.874919Z",
     "shell.execute_reply": "2024-06-15T23:13:16.874624Z"
    },
    "papermill": {
     "duration": 0.468395,
     "end_time": "2024-06-15T23:13:16.875857",
     "exception": false,
     "start_time": "2024-06-15T23:13:16.407462",
     "status": "completed"
    },
    "tags": []
   },
   "outputs": [
    {
     "data": {
      "image/svg+xml": [
       "<svg class=\"main-svg\" xmlns=\"http://www.w3.org/2000/svg\" xmlns:xlink=\"http://www.w3.org/1999/xlink\" width=\"700\" height=\"500\" style=\"\" viewBox=\"0 0 700 500\"><rect x=\"0\" y=\"0\" width=\"700\" height=\"500\" style=\"fill: rgb(255, 255, 255); fill-opacity: 1;\"/><defs id=\"defs-6c06d6\"><g class=\"clips\"><clipPath id=\"clip6c06d6xyplot\" class=\"plotclip\"><rect width=\"497\" height=\"360\"/></clipPath><clipPath class=\"axesclip\" id=\"clip6c06d6x\"><rect x=\"80\" y=\"0\" width=\"497\" height=\"500\"/></clipPath><clipPath class=\"axesclip\" id=\"clip6c06d6y\"><rect x=\"0\" y=\"60\" width=\"700\" height=\"360\"/></clipPath><clipPath class=\"axesclip\" id=\"clip6c06d6xy\"><rect x=\"80\" y=\"60\" width=\"497\" height=\"360\"/></clipPath></g><g class=\"gradients\"/><g class=\"patterns\"/></defs><g class=\"bglayer\"/><g class=\"layer-below\"><g class=\"imagelayer\"/><g class=\"shapelayer\"/></g><g class=\"cartesianlayer\"><g class=\"subplot xy\"><g class=\"layer-subplot\"><g class=\"shapelayer\"/><g class=\"imagelayer\"/></g><g class=\"minor-gridlayer\"><g class=\"x\"/><g class=\"y\"/></g><g class=\"gridlayer\"><g class=\"x\"><path class=\"xgrid crisp\" transform=\"translate(103.09,0)\" d=\"M0,60v360\" style=\"stroke: rgb(238, 238, 238); stroke-opacity: 1; stroke-width: 1px;\"/><path class=\"xgrid crisp\" transform=\"translate(168.01999999999998,0)\" d=\"M0,60v360\" style=\"stroke: rgb(238, 238, 238); stroke-opacity: 1; stroke-width: 1px;\"/><path class=\"xgrid crisp\" transform=\"translate(217.13,0)\" d=\"M0,60v360\" style=\"stroke: rgb(238, 238, 238); stroke-opacity: 1; stroke-width: 1px;\"/><path class=\"xgrid crisp\" transform=\"translate(266.25,0)\" d=\"M0,60v360\" style=\"stroke: rgb(238, 238, 238); stroke-opacity: 1; stroke-width: 1px;\"/><path class=\"xgrid crisp\" transform=\"translate(331.16999999999996,0)\" d=\"M0,60v360\" style=\"stroke: rgb(238, 238, 238); stroke-opacity: 1; stroke-width: 1px;\"/><path class=\"xgrid crisp\" transform=\"translate(380.29,0)\" d=\"M0,60v360\" style=\"stroke: rgb(238, 238, 238); stroke-opacity: 1; stroke-width: 1px;\"/><path class=\"xgrid crisp\" transform=\"translate(429.4,0)\" d=\"M0,60v360\" style=\"stroke: rgb(238, 238, 238); stroke-opacity: 1; stroke-width: 1px;\"/><path class=\"xgrid crisp\" transform=\"translate(494.33,0)\" d=\"M0,60v360\" style=\"stroke: rgb(238, 238, 238); stroke-opacity: 1; stroke-width: 1px;\"/><path class=\"xgrid crisp\" transform=\"translate(543.45,0)\" d=\"M0,60v360\" style=\"stroke: rgb(238, 238, 238); stroke-opacity: 1; stroke-width: 1px;\"/></g><g class=\"y\"><path class=\"ygrid crisp\" transform=\"translate(0,387.57)\" d=\"M80,0h497\" style=\"stroke: rgb(238, 238, 238); stroke-opacity: 1; stroke-width: 1px;\"/><path class=\"ygrid crisp\" transform=\"translate(0,315.88)\" d=\"M80,0h497\" style=\"stroke: rgb(238, 238, 238); stroke-opacity: 1; stroke-width: 1px;\"/><path class=\"ygrid crisp\" transform=\"translate(0,244.19)\" d=\"M80,0h497\" style=\"stroke: rgb(238, 238, 238); stroke-opacity: 1; stroke-width: 1px;\"/><path class=\"ygrid crisp\" transform=\"translate(0,172.5)\" d=\"M80,0h497\" style=\"stroke: rgb(238, 238, 238); stroke-opacity: 1; stroke-width: 1px;\"/><path class=\"ygrid crisp\" transform=\"translate(0,100.81)\" d=\"M80,0h497\" style=\"stroke: rgb(238, 238, 238); stroke-opacity: 1; stroke-width: 1px;\"/></g></g><g class=\"zerolinelayer\"/><g class=\"layer-between\"><g class=\"shapelayer\"/><g class=\"imagelayer\"/></g><path class=\"xlines-below\"/><path class=\"ylines-below\"/><g class=\"overlines-below\"/><g class=\"xaxislayer-below\"/><g class=\"yaxislayer-below\"/><g class=\"overaxes-below\"/><g class=\"plot\" transform=\"translate(80,60)\" clip-path=\"url(#clip6c06d6xyplot)\"><g class=\"scatterlayer mlayer\"><g class=\"trace scatter traced8964b\" style=\"stroke-miterlimit: 2; opacity: 1;\"><g class=\"fills\"/><g class=\"errorbars\"/><g class=\"lines\"/><g class=\"points\"><path class=\"point\" transform=\"translate(119.48,336.16)\" d=\"M5.22,0A5.22,5.22 0 1,1 0,-5.22A5.22,5.22 0 0,1 5.22,0Z\" style=\"opacity: 0.7; stroke-width: 0px; fill: rgb(0, 0, 1); fill-opacity: 1;\"/><path class=\"point\" transform=\"translate(299.34,177.46)\" d=\"M0.62,0A0.62,0.62 0 1,1 0,-0.62A0.62,0.62 0 0,1 0.62,0Z\" style=\"opacity: 0.7; stroke-width: 0px; fill: rgb(0, 0, 1); fill-opacity: 1;\"/><path class=\"point\" transform=\"translate(110.25,273.91)\" d=\"M12.32,0A12.32,12.32 0 1,1 0,-12.32A12.32,12.32 0 0,1 12.32,0Z\" style=\"opacity: 0.7; stroke-width: 0px; fill: rgb(0, 0, 1); fill-opacity: 1;\"/><path class=\"point\" transform=\"translate(66.39,260.06)\" d=\"M3.9,0A3.9,3.9 0 1,1 0,-3.9A3.9,3.9 0 0,1 3.9,0Z\" style=\"opacity: 0.7; stroke-width: 0px; fill: rgb(0, 0, 1); fill-opacity: 1;\"/><path class=\"point\" transform=\"translate(72.28,227.2)\" d=\"M42.43,0A42.43,42.43 0 1,1 0,-42.43A42.43,42.43 0 0,1 42.43,0Z\" style=\"opacity: 0.7; stroke-width: 0px; fill: rgb(0, 0, 1); fill-opacity: 1;\"/><path class=\"point\" transform=\"translate(216.25,105.62)\" d=\"M2.62,0A2.62,2.62 0 1,1 0,-2.62A2.62,2.62 0 0,1 2.62,0Z\" style=\"opacity: 0.7; stroke-width: 0px; fill: rgb(0, 0, 1); fill-opacity: 1;\"/><path class=\"point\" transform=\"translate(94.33,274.71)\" d=\"M34.7,0A34.7,34.7 0 1,1 0,-34.7A34.7,34.7 0 0,1 34.7,0Z\" style=\"opacity: 0.7; stroke-width: 0px; fill: rgb(0, 0, 1); fill-opacity: 1;\"/><path class=\"point\" transform=\"translate(116.72,274.03)\" d=\"M16.29,0A16.29,16.29 0 1,1 0,-16.29A16.29,16.29 0 0,1 16.29,0Z\" style=\"opacity: 0.7; stroke-width: 0px; fill: rgb(0, 0, 1); fill-opacity: 1;\"/><path class=\"point\" transform=\"translate(215.81,220.97)\" d=\"M7.48,0A7.48,7.48 0 1,1 0,-7.48A7.48,7.48 0 0,1 7.48,0Z\" style=\"opacity: 0.7; stroke-width: 0px; fill: rgb(0, 0, 1); fill-opacity: 1;\"/><path class=\"point\" transform=\"translate(237.62,217.74)\" d=\"M4.2,0A4.2,4.2 0 1,1 0,-4.2A4.2,4.2 0 0,1 4.2,0Z\" style=\"opacity: 0.7; stroke-width: 0px; fill: rgb(0, 0, 1); fill-opacity: 1;\"/><path class=\"point\" transform=\"translate(236.88,73.86)\" d=\"M2.29,0A2.29,2.29 0 1,1 0,-2.29A2.29,2.29 0 0,1 2.29,0Z\" style=\"opacity: 0.7; stroke-width: 0px; fill: rgb(0, 0, 1); fill-opacity: 1;\"/><path class=\"point\" transform=\"translate(219.92,90.78)\" d=\"M16.73,0A16.73,16.73 0 1,1 0,-16.73A16.73,16.73 0 0,1 16.73,0Z\" style=\"opacity: 0.7; stroke-width: 0px; fill: rgb(0, 0, 1); fill-opacity: 1;\"/><path class=\"point\" transform=\"translate(168.04,233.24)\" d=\"M1.4,0A1.4,1.4 0 1,1 0,-1.4A1.4,1.4 0 0,1 1.4,0Z\" style=\"opacity: 0.7; stroke-width: 0px; fill: rgb(0, 0, 1); fill-opacity: 1;\"/><path class=\"point\" transform=\"translate(143.13,183.79)\" d=\"M5.36,0A5.36,5.36 0 1,1 0,-5.36A5.36,5.36 0 0,1 5.36,0Z\" style=\"opacity: 0.7; stroke-width: 0px; fill: rgb(0, 0, 1); fill-opacity: 1;\"/><path class=\"point\" transform=\"translate(139.27,202.45)\" d=\"M8.23,0A8.23,8.23 0 1,1 0,-8.23A8.23,8.23 0 0,1 8.23,0Z\" style=\"opacity: 0.7; stroke-width: 0px; fill: rgb(0, 0, 1); fill-opacity: 1;\"/><path class=\"point\" transform=\"translate(469.15,144.29)\" d=\"M0.72,0A0.72,0.72 0 1,1 0,-0.72A0.72,0.72 0 0,1 0.72,0Z\" style=\"opacity: 0.7; stroke-width: 0px; fill: rgb(0, 0, 1); fill-opacity: 1;\"/><path class=\"point\" transform=\"translate(248.79,141.69)\" d=\"M2.16,0A2.16,2.16 0 1,1 0,-2.16A2.16,2.16 0 0,1 2.16,0Z\" style=\"opacity: 0.7; stroke-width: 0px; fill: rgb(0, 0, 1); fill-opacity: 1;\"/><path class=\"point\" transform=\"translate(180,195.21)\" d=\"M4.67,0A4.67,4.67 0 1,1 0,-4.67A4.67,4.67 0 0,1 4.67,0Z\" style=\"opacity: 0.7; stroke-width: 0px; fill: rgb(0, 0, 1); fill-opacity: 1;\"/><path class=\"point\" transform=\"translate(120.12,239.79)\" d=\"M1.61,0A1.61,1.61 0 1,1 0,-1.61A1.61,1.61 0 0,1 1.61,0Z\" style=\"opacity: 0.7; stroke-width: 0px; fill: rgb(0, 0, 1); fill-opacity: 1;\"/><path class=\"point\" transform=\"translate(58.79,282.27)\" d=\"M8.06,0A8.06,8.06 0 1,1 0,-8.06A8.06,8.06 0 0,1 8.06,0Z\" style=\"opacity: 0.7; stroke-width: 0px; fill: rgb(0, 0, 1); fill-opacity: 1;\"/><path class=\"point\" transform=\"translate(94.24,283.43)\" d=\"M5.45,0A5.45,5.45 0 1,1 0,-5.45A5.45,5.45 0 0,1 5.45,0Z\" style=\"opacity: 0.7; stroke-width: 0px; fill: rgb(0, 0, 1); fill-opacity: 1;\"/><path class=\"point\" transform=\"translate(179.88,273.24)\" d=\"M1.28,0A1.28,1.28 0 1,1 0,-1.28A1.28,1.28 0 0,1 1.28,0Z\" style=\"opacity: 0.7; stroke-width: 0px; fill: rgb(0, 0, 1); fill-opacity: 1;\"/><path class=\"point\" transform=\"translate(110.28,231.25)\" d=\"M11.57,0A11.57,11.57 0 1,1 0,-11.57A11.57,11.57 0 0,1 11.57,0Z\" style=\"opacity: 0.7; stroke-width: 0px; fill: rgb(0, 0, 1); fill-opacity: 1;\"/><path class=\"point\" transform=\"translate(154.23,200.3)\" d=\"M8.52,0A8.52,8.52 0 1,1 0,-8.52A8.52,8.52 0 0,1 8.52,0Z\" style=\"opacity: 0.7; stroke-width: 0px; fill: rgb(0, 0, 1); fill-opacity: 1;\"/><path class=\"point\" transform=\"translate(269.32,256.77)\" d=\"M3.6,0A3.6,3.6 0 1,1 0,-3.6A3.6,3.6 0 0,1 3.6,0Z\" style=\"opacity: 0.7; stroke-width: 0px; fill: rgb(0, 0, 1); fill-opacity: 1;\"/><path class=\"point\" transform=\"translate(196.61,109.66)\" d=\"M1.91,0A1.91,1.91 0 1,1 0,-1.91A1.91,1.91 0 0,1 1.91,0Z\" style=\"opacity: 0.7; stroke-width: 0px; fill: rgb(0, 0, 1); fill-opacity: 1;\"/><path class=\"point\" transform=\"translate(142.82,129.75)\" d=\"M5.08,0A5.08,5.08 0 1,1 0,-5.08A5.08,5.08 0 0,1 5.08,0Z\" style=\"opacity: 0.7; stroke-width: 0px; fill: rgb(0, 0, 1); fill-opacity: 1;\"/><path class=\"point\" transform=\"translate(172.34,213.7)\" d=\"M3.44,0A3.44,3.44 0 1,1 0,-3.44A3.44,3.44 0 0,1 3.44,0Z\" style=\"opacity: 0.7; stroke-width: 0px; fill: rgb(0, 0, 1); fill-opacity: 1;\"/><path class=\"point\" transform=\"translate(150.46,123.25)\" d=\"M5.26,0A5.26,5.26 0 1,1 0,-5.26A5.26,5.26 0 0,1 5.26,0Z\" style=\"opacity: 0.7; stroke-width: 0px; fill: rgb(0, 0, 1); fill-opacity: 1;\"/><path class=\"point\" transform=\"translate(117.48,178.11)\" d=\"M8.3,0A8.3,8.3 0 1,1 0,-8.3A8.3,8.3 0 0,1 8.3,0Z\" style=\"opacity: 0.7; stroke-width: 0px; fill: rgb(0, 0, 1); fill-opacity: 1;\"/><path class=\"point\" transform=\"translate(101.53,252.92)\" d=\"M9.22,0A9.22,9.22 0 1,1 0,-9.22A9.22,9.22 0 0,1 9.22,0Z\" style=\"opacity: 0.7; stroke-width: 0px; fill: rgb(0, 0, 1); fill-opacity: 1;\"/><path class=\"point\" transform=\"translate(166.59,233.22)\" d=\"M1.83,0A1.83,1.83 0 1,1 0,-1.83A1.83,1.83 0 0,1 1.83,0Z\" style=\"opacity: 0.7; stroke-width: 0px; fill: rgb(0, 0, 1); fill-opacity: 1;\"/><path class=\"point\" transform=\"translate(119.68,309.3)\" d=\"M4.01,0A4.01,4.01 0 1,1 0,-4.01A4.01,4.01 0 0,1 4.01,0Z\" style=\"opacity: 0.7; stroke-width: 0px; fill: rgb(0, 0, 1); fill-opacity: 1;\"/></g><g class=\"text\"/></g><g class=\"trace scatter trace7cd495\" style=\"stroke-miterlimit: 2; opacity: 1;\"><g class=\"fills\"/><g class=\"errorbars\"/><g class=\"lines\"/><g class=\"points\"><path class=\"point\" transform=\"translate(170.48,146.69)\" d=\"M2.04,0A2.04,2.04 0 1,1 0,-2.04A2.04,2.04 0 0,1 2.04,0Z\" style=\"opacity: 0.7; stroke-width: 0px; fill: rgb(0, 0, 2); fill-opacity: 1;\"/><path class=\"point\" transform=\"translate(265.69,63.75)\" d=\"M4.73,0A4.73,4.73 0 1,1 0,-4.73A4.73,4.73 0 0,1 4.73,0Z\" style=\"opacity: 0.7; stroke-width: 0px; fill: rgb(0, 0, 2); fill-opacity: 1;\"/><path class=\"point\" transform=\"translate(287.45,55.15)\" d=\"M5.32,0A5.32,5.32 0 1,1 0,-5.32A5.32,5.32 0 0,1 5.32,0Z\" style=\"opacity: 0.7; stroke-width: 0px; fill: rgb(0, 0, 2); fill-opacity: 1;\"/><path class=\"point\" transform=\"translate(135.23,156.8)\" d=\"M3.01,0A3.01,3.01 0 1,1 0,-3.01A3.01,3.01 0 0,1 3.01,0Z\" style=\"opacity: 0.7; stroke-width: 0px; fill: rgb(0, 0, 2); fill-opacity: 1;\"/><path class=\"point\" transform=\"translate(200.46,115.37)\" d=\"M4.85,0A4.85,4.85 0 1,1 0,-4.85A4.85,4.85 0 0,1 4.85,0Z\" style=\"opacity: 0.7; stroke-width: 0px; fill: rgb(0, 0, 2); fill-opacity: 1;\"/><path class=\"point\" transform=\"translate(217.74,103.82)\" d=\"M3.54,0A3.54,3.54 0 1,1 0,-3.54A3.54,3.54 0 0,1 3.54,0Z\" style=\"opacity: 0.7; stroke-width: 0px; fill: rgb(0, 0, 2); fill-opacity: 1;\"/><path class=\"point\" transform=\"translate(273.75,63.25)\" d=\"M5.43,0A5.43,5.43 0 1,1 0,-5.43A5.43,5.43 0 0,1 5.43,0Z\" style=\"opacity: 0.7; stroke-width: 0px; fill: rgb(0, 0, 2); fill-opacity: 1;\"/><path class=\"point\" transform=\"translate(298.07,35.22)\" d=\"M3.74,0A3.74,3.74 0 1,1 0,-3.74A3.74,3.74 0 0,1 3.74,0Z\" style=\"opacity: 0.7; stroke-width: 0px; fill: rgb(0, 0, 2); fill-opacity: 1;\"/><path class=\"point\" transform=\"translate(268.94,65.54)\" d=\"M3.64,0A3.64,3.64 0 1,1 0,-3.64A3.64,3.64 0 0,1 3.64,0Z\" style=\"opacity: 0.7; stroke-width: 0px; fill: rgb(0, 0, 2); fill-opacity: 1;\"/><path class=\"point\" transform=\"translate(275.32,59.38)\" d=\"M11.72,0A11.72,11.72 0 1,1 0,-11.72A11.72,11.72 0 0,1 11.72,0Z\" style=\"opacity: 0.7; stroke-width: 0px; fill: rgb(0, 0, 2); fill-opacity: 1;\"/><path class=\"point\" transform=\"translate(276.46,58.73)\" d=\"M14.96,0A14.96,14.96 0 1,1 0,-14.96A14.96,14.96 0 0,1 14.96,0Z\" style=\"opacity: 0.7; stroke-width: 0px; fill: rgb(0, 0, 2); fill-opacity: 1;\"/><path class=\"point\" transform=\"translate(226.52,70.49)\" d=\"M5,0A5,5 0 1,1 0,-5A5,5 0 0,1 5,0Z\" style=\"opacity: 0.7; stroke-width: 0px; fill: rgb(0, 0, 2); fill-opacity: 1;\"/><path class=\"point\" transform=\"translate(254.82,83.61)\" d=\"M5.55,0A5.55,5.55 0 1,1 0,-5.55A5.55,5.55 0 0,1 5.55,0Z\" style=\"opacity: 0.7; stroke-width: 0px; fill: rgb(0, 0, 2); fill-opacity: 1;\"/><path class=\"point\" transform=\"translate(277.67,22.96)\" d=\"M0.69,0A0.69,0.69 0 1,1 0,-0.69A0.69,0.69 0 0,1 0.69,0Z\" style=\"opacity: 0.7; stroke-width: 0px; fill: rgb(0, 0, 2); fill-opacity: 1;\"/><path class=\"point\" transform=\"translate(254.09,62.96)\" d=\"M3.09,0A3.09,3.09 0 1,1 0,-3.09A3.09,3.09 0 0,1 3.09,0Z\" style=\"opacity: 0.7; stroke-width: 0px; fill: rgb(0, 0, 2); fill-opacity: 1;\"/><path class=\"point\" transform=\"translate(250.19,69.92)\" d=\"M12.42,0A12.42,12.42 0 1,1 0,-12.42A12.42,12.42 0 0,1 12.42,0Z\" style=\"opacity: 0.7; stroke-width: 0px; fill: rgb(0, 0, 2); fill-opacity: 1;\"/><path class=\"point\" transform=\"translate(206.12,118.49)\" d=\"M1.16,0A1.16,1.16 0 1,1 0,-1.16A1.16,1.16 0 0,1 1.16,0Z\" style=\"opacity: 0.7; stroke-width: 0px; fill: rgb(0, 0, 2); fill-opacity: 1;\"/><path class=\"point\" transform=\"translate(292.36,25.54)\" d=\"M5.8,0A5.8,5.8 0 1,1 0,-5.8A5.8,5.8 0 0,1 5.8,0Z\" style=\"opacity: 0.7; stroke-width: 0px; fill: rgb(0, 0, 2); fill-opacity: 1;\"/><path class=\"point\" transform=\"translate(300.96,21.67)\" d=\"M3.28,0A3.28,3.28 0 1,1 0,-3.28A3.28,3.28 0 0,1 3.28,0Z\" style=\"opacity: 0.7; stroke-width: 0px; fill: rgb(0, 0, 2); fill-opacity: 1;\"/><path class=\"point\" transform=\"translate(235.88,103.11)\" d=\"M9.12,0A9.12,9.12 0 1,1 0,-9.12A9.12,9.12 0 0,1 9.12,0Z\" style=\"opacity: 0.7; stroke-width: 0px; fill: rgb(0, 0, 2); fill-opacity: 1;\"/><path class=\"point\" transform=\"translate(216.57,113.79)\" d=\"M5.25,0A5.25,5.25 0 1,1 0,-5.25A5.25,5.25 0 0,1 5.25,0Z\" style=\"opacity: 0.7; stroke-width: 0px; fill: rgb(0, 0, 2); fill-opacity: 1;\"/><path class=\"point\" transform=\"translate(218.31,104.97)\" d=\"M7.34,0A7.34,7.34 0 1,1 0,-7.34A7.34,7.34 0 0,1 7.34,0Z\" style=\"opacity: 0.7; stroke-width: 0px; fill: rgb(0, 0, 2); fill-opacity: 1;\"/><path class=\"point\" transform=\"translate(227.53,126.87)\" d=\"M4.71,0A4.71,4.71 0 1,1 0,-4.71A4.71,4.71 0 0,1 4.71,0Z\" style=\"opacity: 0.7; stroke-width: 0px; fill: rgb(0, 0, 2); fill-opacity: 1;\"/><path class=\"point\" transform=\"translate(252.22,81.24)\" d=\"M3.39,0A3.39,3.39 0 1,1 0,-3.39A3.39,3.39 0 0,1 3.39,0Z\" style=\"opacity: 0.7; stroke-width: 0px; fill: rgb(0, 0, 2); fill-opacity: 1;\"/><path class=\"point\" transform=\"translate(239.07,72.57)\" d=\"M2.2,0A2.2,2.2 0 1,1 0,-2.2A2.2,2.2 0 0,1 2.2,0Z\" style=\"opacity: 0.7; stroke-width: 0px; fill: rgb(0, 0, 2); fill-opacity: 1;\"/><path class=\"point\" transform=\"translate(232.36,77.08)\" d=\"M9.61,0A9.61,9.61 0 1,1 0,-9.61A9.61,9.61 0 0,1 9.61,0Z\" style=\"opacity: 0.7; stroke-width: 0px; fill: rgb(0, 0, 2); fill-opacity: 1;\"/><path class=\"point\" transform=\"translate(289,27.48)\" d=\"M4.8,0A4.8,4.8 0 1,1 0,-4.8A4.8,4.8 0 0,1 4.8,0Z\" style=\"opacity: 0.7; stroke-width: 0px; fill: rgb(0, 0, 2); fill-opacity: 1;\"/><path class=\"point\" transform=\"translate(327.75,43.53)\" d=\"M3.95,0A3.95,3.95 0 1,1 0,-3.95A3.95,3.95 0 0,1 3.95,0Z\" style=\"opacity: 0.7; stroke-width: 0px; fill: rgb(0, 0, 2); fill-opacity: 1;\"/><path class=\"point\" transform=\"translate(185.14,230.18)\" d=\"M8.48,0A8.48,8.48 0 1,1 0,-8.48A8.48,8.48 0 0,1 8.48,0Z\" style=\"opacity: 0.7; stroke-width: 0px; fill: rgb(0, 0, 2); fill-opacity: 1;\"/><path class=\"point\" transform=\"translate(300.14,46.69)\" d=\"M12.77,0A12.77,12.77 0 1,1 0,-12.77A12.77,12.77 0 0,1 12.77,0Z\" style=\"opacity: 0.7; stroke-width: 0px; fill: rgb(0, 0, 2); fill-opacity: 1;\"/></g><g class=\"text\"/></g><g class=\"trace scatter tracef72c15\" style=\"stroke-miterlimit: 2; opacity: 1;\"><g class=\"fills\"/><g class=\"errorbars\"/><g class=\"lines\"/><g class=\"points\"><path class=\"point\" transform=\"translate(200.6,233.82)\" d=\"M5.48,0A5.48,5.48 0 1,1 0,-5.48A5.48,5.48 0 0,1 5.48,0Z\" style=\"opacity: 0.7; stroke-width: 0px; fill: rgb(0, 0, 3); fill-opacity: 1;\"/><path class=\"point\" transform=\"translate(226.32,327.46)\" d=\"M3.7,0A3.7,3.7 0 1,1 0,-3.7A3.7,3.7 0 0,1 3.7,0Z\" style=\"opacity: 0.7; stroke-width: 0px; fill: rgb(0, 0, 3); fill-opacity: 1;\"/><path class=\"point\" transform=\"translate(141.44,268.62)\" d=\"M2.37,0A2.37,2.37 0 1,1 0,-2.37A2.37,2.37 0 0,1 2.37,0Z\" style=\"opacity: 0.7; stroke-width: 0px; fill: rgb(0, 0, 3); fill-opacity: 1;\"/><path class=\"point\" transform=\"translate(125.72,201.24)\" d=\"M1.2,0A1.2,1.2 0 1,1 0,-1.2A1.2,1.2 0 0,1 1.2,0Z\" style=\"opacity: 0.7; stroke-width: 0px; fill: rgb(0, 0, 3); fill-opacity: 1;\"/><path class=\"point\" transform=\"translate(93.9,313.41)\" d=\"M3.8,0A3.8,3.8 0 1,1 0,-3.8A3.8,3.8 0 0,1 3.8,0Z\" style=\"opacity: 0.7; stroke-width: 0px; fill: rgb(0, 0, 3); fill-opacity: 1;\"/><path class=\"point\" transform=\"translate(60.54,262.82)\" d=\"M2.81,0A2.81,2.81 0 1,1 0,-2.81A2.81,2.81 0 0,1 2.81,0Z\" style=\"opacity: 0.7; stroke-width: 0px; fill: rgb(0, 0, 3); fill-opacity: 1;\"/><path class=\"point\" transform=\"translate(148.42,266.47)\" d=\"M4.03,0A4.03,4.03 0 1,1 0,-4.03A4.03,4.03 0 0,1 4.03,0Z\" style=\"opacity: 0.7; stroke-width: 0px; fill: rgb(0, 0, 3); fill-opacity: 1;\"/><path class=\"point\" transform=\"translate(142.01,288.4)\" d=\"M2.04,0A2.04,2.04 0 1,1 0,-2.04A2.04,2.04 0 0,1 2.04,0Z\" style=\"opacity: 0.7; stroke-width: 0px; fill: rgb(0, 0, 3); fill-opacity: 1;\"/><path class=\"point\" transform=\"translate(148.78,269.56)\" d=\"M2.95,0A2.95,2.95 0 1,1 0,-2.95A2.95,2.95 0 0,1 2.95,0Z\" style=\"opacity: 0.7; stroke-width: 0px; fill: rgb(0, 0, 3); fill-opacity: 1;\"/><path class=\"point\" transform=\"translate(144.08,250.75)\" d=\"M0.71,0A0.71,0.71 0 1,1 0,-0.71A0.71,0.71 0 0,1 0.71,0Z\" style=\"opacity: 0.7; stroke-width: 0px; fill: rgb(0, 0, 3); fill-opacity: 1;\"/><path class=\"point\" transform=\"translate(119.58,262.02)\" d=\"M6.75,0A6.75,6.75 0 1,1 0,-6.75A6.75,6.75 0 0,1 6.75,0Z\" style=\"opacity: 0.7; stroke-width: 0px; fill: rgb(0, 0, 3); fill-opacity: 1;\"/><path class=\"point\" transform=\"translate(190.56,240.74)\" d=\"M1.66,0A1.66,1.66 0 1,1 0,-1.66A1.66,1.66 0 0,1 1.66,0Z\" style=\"opacity: 0.7; stroke-width: 0px; fill: rgb(0, 0, 3); fill-opacity: 1;\"/><path class=\"point\" transform=\"translate(160.39,252.46)\" d=\"M3.1,0A3.1,3.1 0 1,1 0,-3.1A3.1,3.1 0 0,1 3.1,0Z\" style=\"opacity: 0.7; stroke-width: 0px; fill: rgb(0, 0, 3); fill-opacity: 1;\"/><path class=\"point\" transform=\"translate(206.71,293.07)\" d=\"M0.45,0A0.45,0.45 0 1,1 0,-0.45A0.45,0.45 0 0,1 0.45,0Z\" style=\"opacity: 0.7; stroke-width: 0px; fill: rgb(0, 0, 3); fill-opacity: 1;\"/><path class=\"point\" transform=\"translate(161.92,242.31)\" d=\"M8.48,0A8.48,8.48 0 1,1 0,-8.48A8.48,8.48 0 0,1 8.48,0Z\" style=\"opacity: 0.7; stroke-width: 0px; fill: rgb(0, 0, 3); fill-opacity: 1;\"/><path class=\"point\" transform=\"translate(67.75,295.44)\" d=\"M0.84,0A0.84,0.84 0 1,1 0,-0.84A0.84,0.84 0 0,1 0.84,0Z\" style=\"opacity: 0.7; stroke-width: 0px; fill: rgb(0, 0, 3); fill-opacity: 1;\"/><path class=\"point\" transform=\"translate(58.35,285.07)\" d=\"M2.16,0A2.16,2.16 0 1,1 0,-2.16A2.16,2.16 0 0,1 2.16,0Z\" style=\"opacity: 0.7; stroke-width: 0px; fill: rgb(0, 0, 3); fill-opacity: 1;\"/><path class=\"point\" transform=\"translate(65.16,298.33)\" d=\"M8.22,0A8.22,8.22 0 1,1 0,-8.22A8.22,8.22 0 0,1 8.22,0Z\" style=\"opacity: 0.7; stroke-width: 0px; fill: rgb(0, 0, 3); fill-opacity: 1;\"/><path class=\"point\" transform=\"translate(240.38,277.36)\" d=\"M1.17,0A1.17,1.17 0 1,1 0,-1.17A1.17,1.17 0 0,1 1.17,0Z\" style=\"opacity: 0.7; stroke-width: 0px; fill: rgb(0, 0, 3); fill-opacity: 1;\"/><path class=\"point\" transform=\"translate(85.89,327.57)\" d=\"M0.96,0A0.96,0.96 0 1,1 0,-0.96A0.96,0.96 0 0,1 0.96,0Z\" style=\"opacity: 0.7; stroke-width: 0px; fill: rgb(0, 0, 3); fill-opacity: 1;\"/><path class=\"point\" transform=\"translate(130.55,233.3)\" d=\"M4.25,0A4.25,4.25 0 1,1 0,-4.25A4.25,4.25 0 0,1 4.25,0Z\" style=\"opacity: 0.7; stroke-width: 0px; fill: rgb(0, 0, 3); fill-opacity: 1;\"/><path class=\"point\" transform=\"translate(89.45,301.69)\" d=\"M2.94,0A2.94,2.94 0 1,1 0,-2.94A2.94,2.94 0 0,1 2.94,0Z\" style=\"opacity: 0.7; stroke-width: 0px; fill: rgb(0, 0, 3); fill-opacity: 1;\"/><path class=\"point\" transform=\"translate(51.78,309.64)\" d=\"M1.37,0A1.37,1.37 0 1,1 0,-1.37A1.37,1.37 0 0,1 1.37,0Z\" style=\"opacity: 0.7; stroke-width: 0px; fill: rgb(0, 0, 3); fill-opacity: 1;\"/><path class=\"point\" transform=\"translate(125.91,239.6)\" d=\"M4.57,0A4.57,4.57 0 1,1 0,-4.57A4.57,4.57 0 0,1 4.57,0Z\" style=\"opacity: 0.7; stroke-width: 0px; fill: rgb(0, 0, 3); fill-opacity: 1;\"/><path class=\"point\" transform=\"translate(51.55,240.55)\" d=\"M1.56,0A1.56,1.56 0 1,1 0,-1.56A1.56,1.56 0 0,1 1.56,0Z\" style=\"opacity: 0.7; stroke-width: 0px; fill: rgb(0, 0, 3); fill-opacity: 1;\"/><path class=\"point\" transform=\"translate(97.99,266.77)\" d=\"M1.67,0A1.67,1.67 0 1,1 0,-1.67A1.67,1.67 0 0,1 1.67,0Z\" style=\"opacity: 0.7; stroke-width: 0px; fill: rgb(0, 0, 3); fill-opacity: 1;\"/><path class=\"point\" transform=\"translate(198.8,236.36)\" d=\"M1.82,0A1.82,1.82 0 1,1 0,-1.82A1.82,1.82 0 0,1 1.82,0Z\" style=\"opacity: 0.7; stroke-width: 0px; fill: rgb(0, 0, 3); fill-opacity: 1;\"/><path class=\"point\" transform=\"translate(163.12,279.67)\" d=\"M3.93,0A3.93,3.93 0 1,1 0,-3.93A3.93,3.93 0 0,1 3.93,0Z\" style=\"opacity: 0.7; stroke-width: 0px; fill: rgb(0, 0, 3); fill-opacity: 1;\"/><path class=\"point\" transform=\"translate(66.52,282.72)\" d=\"M3.07,0A3.07,3.07 0 1,1 0,-3.07A3.07,3.07 0 0,1 3.07,0Z\" style=\"opacity: 0.7; stroke-width: 0px; fill: rgb(0, 0, 3); fill-opacity: 1;\"/><path class=\"point\" transform=\"translate(80.92,301.15)\" d=\"M3.52,0A3.52,3.52 0 1,1 0,-3.52A3.52,3.52 0 0,1 3.52,0Z\" style=\"opacity: 0.7; stroke-width: 0px; fill: rgb(0, 0, 3); fill-opacity: 1;\"/><path class=\"point\" transform=\"translate(116.09,251.98)\" d=\"M1.82,0A1.82,1.82 0 1,1 0,-1.82A1.82,1.82 0 0,1 1.82,0Z\" style=\"opacity: 0.7; stroke-width: 0px; fill: rgb(0, 0, 3); fill-opacity: 1;\"/><path class=\"point\" transform=\"translate(185.1,177.12)\" d=\"M1.29,0A1.29,1.29 0 1,1 0,-1.29A1.29,1.29 0 0,1 1.29,0Z\" style=\"opacity: 0.7; stroke-width: 0px; fill: rgb(0, 0, 3); fill-opacity: 1;\"/><path class=\"point\" transform=\"translate(174.24,235.28)\" d=\"M5.67,0A5.67,5.67 0 1,1 0,-5.67A5.67,5.67 0 0,1 5.67,0Z\" style=\"opacity: 0.7; stroke-width: 0px; fill: rgb(0, 0, 3); fill-opacity: 1;\"/><path class=\"point\" transform=\"translate(83.41,318.35)\" d=\"M4.57,0A4.57,4.57 0 1,1 0,-4.57A4.57,4.57 0 0,1 4.57,0Z\" style=\"opacity: 0.7; stroke-width: 0px; fill: rgb(0, 0, 3); fill-opacity: 1;\"/><path class=\"point\" transform=\"translate(199.86,243.51)\" d=\"M1.25,0A1.25,1.25 0 1,1 0,-1.25A1.25,1.25 0 0,1 1.25,0Z\" style=\"opacity: 0.7; stroke-width: 0px; fill: rgb(0, 0, 3); fill-opacity: 1;\"/><path class=\"point\" transform=\"translate(117.86,274.2)\" d=\"M3.31,0A3.31,3.31 0 1,1 0,-3.31A3.31,3.31 0 0,1 3.31,0Z\" style=\"opacity: 0.7; stroke-width: 0px; fill: rgb(0, 0, 3); fill-opacity: 1;\"/><path class=\"point\" transform=\"translate(142.41,282.23)\" d=\"M10.35,0A10.35,10.35 0 1,1 0,-10.35A10.35,10.35 0 0,1 10.35,0Z\" style=\"opacity: 0.7; stroke-width: 0px; fill: rgb(0, 0, 3); fill-opacity: 1;\"/><path class=\"point\" transform=\"translate(208.01,164.66)\" d=\"M0.91,0A0.91,0.91 0 1,1 0,-0.91A0.91,0.91 0 0,1 0.91,0Z\" style=\"opacity: 0.7; stroke-width: 0px; fill: rgb(0, 0, 3); fill-opacity: 1;\"/><path class=\"point\" transform=\"translate(87.06,255.88)\" d=\"M2.86,0A2.86,2.86 0 1,1 0,-2.86A2.86,2.86 0 0,1 2.86,0Z\" style=\"opacity: 0.7; stroke-width: 0px; fill: rgb(0, 0, 3); fill-opacity: 1;\"/><path class=\"point\" transform=\"translate(128.04,209.49)\" d=\"M0.44,0A0.44,0.44 0 1,1 0,-0.44A0.44,0.44 0 0,1 0.44,0Z\" style=\"opacity: 0.7; stroke-width: 0px; fill: rgb(0, 0, 3); fill-opacity: 1;\"/><path class=\"point\" transform=\"translate(163.48,275.39)\" d=\"M2.99,0A2.99,2.99 0 1,1 0,-2.99A2.99,2.99 0 0,1 2.99,0Z\" style=\"opacity: 0.7; stroke-width: 0px; fill: rgb(0, 0, 3); fill-opacity: 1;\"/><path class=\"point\" transform=\"translate(128.06,325.19)\" d=\"M2.63,0A2.63,2.63 0 1,1 0,-2.63A2.63,2.63 0 0,1 2.63,0Z\" style=\"opacity: 0.7; stroke-width: 0px; fill: rgb(0, 0, 3); fill-opacity: 1;\"/><path class=\"point\" transform=\"translate(146.15,306.22)\" d=\"M2.86,0A2.86,2.86 0 1,1 0,-2.86A2.86,2.86 0 0,1 2.86,0Z\" style=\"opacity: 0.7; stroke-width: 0px; fill: rgb(0, 0, 3); fill-opacity: 1;\"/><path class=\"point\" transform=\"translate(247.17,219.97)\" d=\"M6.79,0A6.79,6.79 0 1,1 0,-6.79A6.79,6.79 0 0,1 6.79,0Z\" style=\"opacity: 0.7; stroke-width: 0px; fill: rgb(0, 0, 3); fill-opacity: 1;\"/><path class=\"point\" transform=\"translate(171.14,265.66)\" d=\"M5.25,0A5.25,5.25 0 1,1 0,-5.25A5.25,5.25 0 0,1 5.25,0Z\" style=\"opacity: 0.7; stroke-width: 0px; fill: rgb(0, 0, 3); fill-opacity: 1;\"/><path class=\"point\" transform=\"translate(146.93,245.79)\" d=\"M0.97,0A0.97,0.97 0 1,1 0,-0.97A0.97,0.97 0 0,1 0.97,0Z\" style=\"opacity: 0.7; stroke-width: 0px; fill: rgb(0, 0, 3); fill-opacity: 1;\"/><path class=\"point\" transform=\"translate(113.52,247.17)\" d=\"M5.19,0A5.19,5.19 0 1,1 0,-5.19A5.19,5.19 0 0,1 5.19,0Z\" style=\"opacity: 0.7; stroke-width: 0px; fill: rgb(0, 0, 3); fill-opacity: 1;\"/><path class=\"point\" transform=\"translate(126.43,265.94)\" d=\"M1.99,0A1.99,1.99 0 1,1 0,-1.99A1.99,1.99 0 0,1 1.99,0Z\" style=\"opacity: 0.7; stroke-width: 0px; fill: rgb(0, 0, 3); fill-opacity: 1;\"/><path class=\"point\" transform=\"translate(164.36,222.9)\" d=\"M3.44,0A3.44,3.44 0 1,1 0,-3.44A3.44,3.44 0 0,1 3.44,0Z\" style=\"opacity: 0.7; stroke-width: 0px; fill: rgb(0, 0, 3); fill-opacity: 1;\"/><path class=\"point\" transform=\"translate(115.29,256.04)\" d=\"M4.34,0A4.34,4.34 0 1,1 0,-4.34A4.34,4.34 0 0,1 4.34,0Z\" style=\"opacity: 0.7; stroke-width: 0px; fill: rgb(0, 0, 3); fill-opacity: 1;\"/><path class=\"point\" transform=\"translate(146.87,241.27)\" d=\"M2.94,0A2.94,2.94 0 1,1 0,-2.94A2.94,2.94 0 0,1 2.94,0Z\" style=\"opacity: 0.7; stroke-width: 0px; fill: rgb(0, 0, 3); fill-opacity: 1;\"/><path class=\"point\" transform=\"translate(73.41,195.29)\" d=\"M3.16,0A3.16,3.16 0 1,1 0,-3.16A3.16,3.16 0 0,1 3.16,0Z\" style=\"opacity: 0.7; stroke-width: 0px; fill: rgb(0, 0, 3); fill-opacity: 1;\"/></g><g class=\"text\"/></g><g class=\"trace scatter trace3cba52\" style=\"stroke-miterlimit: 2; opacity: 1;\"><g class=\"fills\"/><g class=\"errorbars\"/><g class=\"lines\"/><g class=\"points\"><path class=\"point\" transform=\"translate(263.04,94.68)\" d=\"M7.61,0A7.61,7.61 0 1,1 0,-7.61A7.61,7.61 0 0,1 7.61,0Z\" style=\"opacity: 0.7; stroke-width: 0px; fill: rgb(0, 0, 4); fill-opacity: 1;\"/><path class=\"point\" transform=\"translate(206.91,252.91)\" d=\"M3.05,0A3.05,3.05 0 1,1 0,-3.05A3.05,3.05 0 0,1 3.05,0Z\" style=\"opacity: 0.7; stroke-width: 0px; fill: rgb(0, 0, 4); fill-opacity: 1;\"/><path class=\"point\" transform=\"translate(190.01,177.61)\" d=\"M13.53,0A13.53,13.53 0 1,1 0,-13.53A13.53,13.53 0 0,1 13.53,0Z\" style=\"opacity: 0.7; stroke-width: 0px; fill: rgb(0, 0, 4); fill-opacity: 1;\"/><path class=\"point\" transform=\"translate(309.37,49.77)\" d=\"M6.92,0A6.92,6.92 0 1,1 0,-6.92A6.92,6.92 0 0,1 6.92,0Z\" style=\"opacity: 0.7; stroke-width: 0px; fill: rgb(0, 0, 4); fill-opacity: 1;\"/><path class=\"point\" transform=\"translate(234.29,150.17)\" d=\"M4.54,0A4.54,4.54 0 1,1 0,-4.54A4.54,4.54 0 0,1 4.54,0Z\" style=\"opacity: 0.7; stroke-width: 0px; fill: rgb(0, 0, 4); fill-opacity: 1;\"/><path class=\"point\" transform=\"translate(191.18,179.58)\" d=\"M6.32,0A6.32,6.32 0 1,1 0,-6.32A6.32,6.32 0 0,1 6.32,0Z\" style=\"opacity: 0.7; stroke-width: 0px; fill: rgb(0, 0, 4); fill-opacity: 1;\"/><path class=\"point\" transform=\"translate(205.57,132.53)\" d=\"M1.73,0A1.73,1.73 0 1,1 0,-1.73A1.73,1.73 0 0,1 1.73,0Z\" style=\"opacity: 0.7; stroke-width: 0px; fill: rgb(0, 0, 4); fill-opacity: 1;\"/><path class=\"point\" transform=\"translate(259.03,116.65)\" d=\"M4.41,0A4.41,4.41 0 1,1 0,-4.41A4.41,4.41 0 0,1 4.41,0Z\" style=\"opacity: 0.7; stroke-width: 0px; fill: rgb(0, 0, 4); fill-opacity: 1;\"/><path class=\"point\" transform=\"translate(160.86,213.38)\" d=\"M2.84,0A2.84,2.84 0 1,1 0,-2.84A2.84,2.84 0 0,1 2.84,0Z\" style=\"opacity: 0.7; stroke-width: 0px; fill: rgb(0, 0, 4); fill-opacity: 1;\"/><path class=\"point\" transform=\"translate(226.35,195.97)\" d=\"M3.39,0A3.39,3.39 0 1,1 0,-3.39A3.39,3.39 0 0,1 3.39,0Z\" style=\"opacity: 0.7; stroke-width: 0px; fill: rgb(0, 0, 4); fill-opacity: 1;\"/><path class=\"point\" transform=\"translate(216.11,218.15)\" d=\"M2.57,0A2.57,2.57 0 1,1 0,-2.57A2.57,2.57 0 0,1 2.57,0Z\" style=\"opacity: 0.7; stroke-width: 0px; fill: rgb(0, 0, 4); fill-opacity: 1;\"/><path class=\"point\" transform=\"translate(199.99,241.37)\" d=\"M3.19,0A3.19,3.19 0 1,1 0,-3.19A3.19,3.19 0 0,1 3.19,0Z\" style=\"opacity: 0.7; stroke-width: 0px; fill: rgb(0, 0, 4); fill-opacity: 1;\"/><path class=\"point\" transform=\"translate(180.35,273.23)\" d=\"M3.22,0A3.22,3.22 0 1,1 0,-3.22A3.22,3.22 0 0,1 3.22,0Z\" style=\"opacity: 0.7; stroke-width: 0px; fill: rgb(0, 0, 4); fill-opacity: 1;\"/><path class=\"point\" transform=\"translate(192.84,242.17)\" d=\"M2.22,0A2.22,2.22 0 1,1 0,-2.22A2.22,2.22 0 0,1 2.22,0Z\" style=\"opacity: 0.7; stroke-width: 0px; fill: rgb(0, 0, 4); fill-opacity: 1;\"/><path class=\"point\" transform=\"translate(212.54,123.04)\" d=\"M2.15,0A2.15,2.15 0 1,1 0,-2.15A2.15,2.15 0 0,1 2.15,0Z\" style=\"opacity: 0.7; stroke-width: 0px; fill: rgb(0, 0, 4); fill-opacity: 1;\"/><path class=\"point\" transform=\"translate(225.46,178.53)\" d=\"M9.88,0A9.88,9.88 0 1,1 0,-9.88A9.88,9.88 0 0,1 9.88,0Z\" style=\"opacity: 0.7; stroke-width: 0px; fill: rgb(0, 0, 4); fill-opacity: 1;\"/><path class=\"point\" transform=\"translate(217.58,239.29)\" d=\"M1.94,0A1.94,1.94 0 1,1 0,-1.94A1.94,1.94 0 0,1 1.94,0Z\" style=\"opacity: 0.7; stroke-width: 0px; fill: rgb(0, 0, 4); fill-opacity: 1;\"/><path class=\"point\" transform=\"translate(201.5,146.97)\" d=\"M1.74,0A1.74,1.74 0 1,1 0,-1.74A1.74,1.74 0 0,1 1.74,0Z\" style=\"opacity: 0.7; stroke-width: 0px; fill: rgb(0, 0, 4); fill-opacity: 1;\"/><path class=\"point\" transform=\"translate(184.54,93.51)\" d=\"M2.24,0A2.24,2.24 0 1,1 0,-2.24A2.24,2.24 0 0,1 2.24,0Z\" style=\"opacity: 0.7; stroke-width: 0px; fill: rgb(0, 0, 4); fill-opacity: 1;\"/><path class=\"point\" transform=\"translate(230.95,227.9)\" d=\"M5.1,0A5.1,5.1 0 1,1 0,-5.1A5.1,5.1 0 0,1 5.1,0Z\" style=\"opacity: 0.7; stroke-width: 0px; fill: rgb(0, 0, 4); fill-opacity: 1;\"/><path class=\"point\" transform=\"translate(216.89,81.82)\" d=\"M2.68,0A2.68,2.68 0 1,1 0,-2.68A2.68,2.68 0 0,1 2.68,0Z\" style=\"opacity: 0.7; stroke-width: 0px; fill: rgb(0, 0, 4); fill-opacity: 1;\"/><path class=\"point\" transform=\"translate(215.52,118.95)\" d=\"M1.46,0A1.46,1.46 0 1,1 0,-1.46A1.46,1.46 0 0,1 1.46,0Z\" style=\"opacity: 0.7; stroke-width: 0px; fill: rgb(0, 0, 4); fill-opacity: 1;\"/><path class=\"point\" transform=\"translate(324.08,51.99)\" d=\"M22.58,0A22.58,22.58 0 1,1 0,-22.58A22.58,22.58 0 0,1 22.58,0Z\" style=\"opacity: 0.7; stroke-width: 0px; fill: rgb(0, 0, 4); fill-opacity: 1;\"/><path class=\"point\" transform=\"translate(260.67,68.98)\" d=\"M2.7,0A2.7,2.7 0 1,1 0,-2.7A2.7,2.7 0 0,1 2.7,0Z\" style=\"opacity: 0.7; stroke-width: 0px; fill: rgb(0, 0, 4); fill-opacity: 1;\"/><path class=\"point\" transform=\"translate(281.68,147.71)\" d=\"M4.2,0A4.2,4.2 0 1,1 0,-4.2A4.2,4.2 0 0,1 4.2,0Z\" style=\"opacity: 0.7; stroke-width: 0px; fill: rgb(0, 0, 4); fill-opacity: 1;\"/></g><g class=\"text\"/></g><g class=\"trace scatter tracef90a80\" style=\"stroke-miterlimit: 2; opacity: 1;\"><g class=\"fills\"/><g class=\"errorbars\"/><g class=\"lines\"/><g class=\"points\"><path class=\"point\" transform=\"translate(300.57,47.12)\" d=\"M5.3,0A5.3,5.3 0 1,1 0,-5.3A5.3,5.3 0 0,1 5.3,0Z\" style=\"opacity: 0.7; stroke-width: 0px; fill: rgb(0, 0, 5); fill-opacity: 1;\"/><path class=\"point\" transform=\"translate(304.13,45.18)\" d=\"M2.54,0A2.54,2.54 0 1,1 0,-2.54A2.54,2.54 0 0,1 2.54,0Z\" style=\"opacity: 0.7; stroke-width: 0px; fill: rgb(0, 0, 5); fill-opacity: 1;\"/></g><g class=\"text\"/></g></g></g><g class=\"overplot\"/><path class=\"xlines-above crisp\" d=\"M0,0\" style=\"fill: none;\"/><path class=\"ylines-above crisp\" d=\"M0,0\" style=\"fill: none;\"/><g class=\"overlines-above\"/><g class=\"xaxislayer-above\"><g class=\"xtick\"><text text-anchor=\"middle\" x=\"0\" y=\"430\" transform=\"translate(103.09,0)\" style=\"font-family: 'Open Sans', verdana, arial, sans-serif; font-size: 9px; fill: rgb(68, 68, 68); fill-opacity: 1; white-space: pre; opacity: 1;\">2</text></g><g class=\"xtick\"><text text-anchor=\"middle\" x=\"0\" y=\"430\" style=\"font-family: 'Open Sans', verdana, arial, sans-serif; font-size: 9px; fill: rgb(68, 68, 68); fill-opacity: 1; white-space: pre; opacity: 1;\" transform=\"translate(168.01999999999998,0)\">5</text></g><g class=\"xtick\"><text text-anchor=\"middle\" x=\"0\" y=\"433\" style=\"font-family: 'Open Sans', verdana, arial, sans-serif; font-size: 12px; fill: rgb(68, 68, 68); fill-opacity: 1; white-space: pre; opacity: 1;\" transform=\"translate(217.13,0)\">1000</text></g><g class=\"xtick\"><text text-anchor=\"middle\" x=\"0\" y=\"430\" style=\"font-family: 'Open Sans', verdana, arial, sans-serif; font-size: 9px; fill: rgb(68, 68, 68); fill-opacity: 1; white-space: pre; opacity: 1;\" transform=\"translate(266.25,0)\">2</text></g><g class=\"xtick\"><text text-anchor=\"middle\" x=\"0\" y=\"430\" style=\"font-family: 'Open Sans', verdana, arial, sans-serif; font-size: 9px; fill: rgb(68, 68, 68); fill-opacity: 1; white-space: pre; opacity: 1;\" transform=\"translate(331.16999999999996,0)\">5</text></g><g class=\"xtick\"><text text-anchor=\"middle\" x=\"0\" y=\"433\" style=\"font-family: 'Open Sans', verdana, arial, sans-serif; font-size: 12px; fill: rgb(68, 68, 68); fill-opacity: 1; white-space: pre; opacity: 1;\" transform=\"translate(380.29,0)\">10k</text></g><g class=\"xtick\"><text text-anchor=\"middle\" x=\"0\" y=\"430\" style=\"font-family: 'Open Sans', verdana, arial, sans-serif; font-size: 9px; fill: rgb(68, 68, 68); fill-opacity: 1; white-space: pre; opacity: 1;\" transform=\"translate(429.4,0)\">2</text></g><g class=\"xtick\"><text text-anchor=\"middle\" x=\"0\" y=\"430\" style=\"font-family: 'Open Sans', verdana, arial, sans-serif; font-size: 9px; fill: rgb(68, 68, 68); fill-opacity: 1; white-space: pre; opacity: 1;\" transform=\"translate(494.33,0)\">5</text></g><g class=\"xtick\"><text text-anchor=\"middle\" x=\"0\" y=\"433\" style=\"font-family: 'Open Sans', verdana, arial, sans-serif; font-size: 12px; fill: rgb(68, 68, 68); fill-opacity: 1; white-space: pre; opacity: 1;\" transform=\"translate(543.45,0)\">100k</text></g></g><g class=\"yaxislayer-above\"><g class=\"ytick\"><text text-anchor=\"end\" x=\"79\" y=\"4.199999999999999\" transform=\"translate(0,387.57)\" style=\"font-family: 'Open Sans', verdana, arial, sans-serif; font-size: 12px; fill: rgb(68, 68, 68); fill-opacity: 1; white-space: pre; opacity: 1;\">30</text></g><g class=\"ytick\"><text text-anchor=\"end\" x=\"79\" y=\"4.199999999999999\" style=\"font-family: 'Open Sans', verdana, arial, sans-serif; font-size: 12px; fill: rgb(68, 68, 68); fill-opacity: 1; white-space: pre; opacity: 1;\" transform=\"translate(0,315.88)\">40</text></g><g class=\"ytick\"><text text-anchor=\"end\" x=\"79\" y=\"4.199999999999999\" style=\"font-family: 'Open Sans', verdana, arial, sans-serif; font-size: 12px; fill: rgb(68, 68, 68); fill-opacity: 1; white-space: pre; opacity: 1;\" transform=\"translate(0,244.19)\">50</text></g><g class=\"ytick\"><text text-anchor=\"end\" x=\"79\" y=\"4.199999999999999\" style=\"font-family: 'Open Sans', verdana, arial, sans-serif; font-size: 12px; fill: rgb(68, 68, 68); fill-opacity: 1; white-space: pre; opacity: 1;\" transform=\"translate(0,172.5)\">60</text></g><g class=\"ytick\"><text text-anchor=\"end\" x=\"79\" y=\"4.199999999999999\" style=\"font-family: 'Open Sans', verdana, arial, sans-serif; font-size: 12px; fill: rgb(68, 68, 68); fill-opacity: 1; white-space: pre; opacity: 1;\" transform=\"translate(0,100.81)\">70</text></g></g><g class=\"overaxes-above\"/></g></g><g class=\"polarlayer\"/><g class=\"smithlayer\"/><g class=\"ternarylayer\"/><g class=\"geolayer\"/><g class=\"funnelarealayer\"/><g class=\"pielayer\"/><g class=\"iciclelayer\"/><g class=\"treemaplayer\"/><g class=\"sunburstlayer\"/><g class=\"glimages\"/><defs id=\"topdefs-6c06d6\"><g class=\"clips\"/><clipPath id=\"legend6c06d6\"><rect width=\"101\" height=\"124\" x=\"0\" y=\"0\"/></clipPath></defs><g class=\"layer-above\"><g class=\"imagelayer\"/><g class=\"shapelayer\"/></g><g class=\"infolayer\"><g class=\"legend\" pointer-events=\"all\" transform=\"translate(586.94,60)\"><rect class=\"bg\" shape-rendering=\"crispEdges\" style=\"stroke: rgb(68, 68, 68); stroke-opacity: 1; fill: rgb(255, 255, 255); fill-opacity: 1; stroke-width: 0px;\" width=\"101\" height=\"124\" x=\"0\" y=\"0\"/><g class=\"scrollbox\" transform=\"\" clip-path=\"url(#legend6c06d6)\"><text class=\"legendtitletext\" text-anchor=\"start\" x=\"2\" y=\"18.2\" style=\"font-family: 'Open Sans', verdana, arial, sans-serif; font-size: 14px; fill: rgb(68, 68, 68); fill-opacity: 1; white-space: pre;\">continent</text><g class=\"groups\" transform=\"\"><g class=\"traces\" transform=\"translate(0,32.7)\" style=\"opacity: 1;\"><text class=\"legendtext\" text-anchor=\"start\" x=\"40\" y=\"4.680000000000001\" style=\"font-family: 'Open Sans', verdana, arial, sans-serif; font-size: 12px; fill: rgb(68, 68, 68); fill-opacity: 1; white-space: pre;\">Asia</text><g class=\"layers\" style=\"opacity: 1;\"><g class=\"legendfill\"/><g class=\"legendlines\"/><g class=\"legendsymbols\"><g class=\"legendpoints\"><path class=\"scatterpts\" transform=\"translate(20,0)\" d=\"M6,0A6,6 0 1,1 0,-6A6,6 0 0,1 6,0Z\" style=\"opacity: 0.7; stroke-width: 0px; fill: rgb(0, 0, 1); fill-opacity: 1;\"/></g></g></g><rect class=\"legendtoggle\" x=\"0\" y=\"-9.5\" width=\"95.15625\" height=\"19\" style=\"fill: rgb(0, 0, 0); fill-opacity: 0;\"/></g></g><g class=\"groups\" transform=\"\"><g class=\"traces\" transform=\"translate(0,51.7)\" style=\"opacity: 1;\"><text class=\"legendtext\" text-anchor=\"start\" x=\"40\" y=\"4.680000000000001\" style=\"font-family: 'Open Sans', verdana, arial, sans-serif; font-size: 12px; fill: rgb(68, 68, 68); fill-opacity: 1; white-space: pre;\">Europe</text><g class=\"layers\" style=\"opacity: 1;\"><g class=\"legendfill\"/><g class=\"legendlines\"/><g class=\"legendsymbols\"><g class=\"legendpoints\"><path class=\"scatterpts\" transform=\"translate(20,0)\" d=\"M6,0A6,6 0 1,1 0,-6A6,6 0 0,1 6,0Z\" style=\"opacity: 0.7; stroke-width: 0px; fill: rgb(0, 0, 2); fill-opacity: 1;\"/></g></g></g><rect class=\"legendtoggle\" x=\"0\" y=\"-9.5\" width=\"95.15625\" height=\"19\" style=\"fill: rgb(0, 0, 0); fill-opacity: 0;\"/></g></g><g class=\"groups\" transform=\"\"><g class=\"traces\" transform=\"translate(0,70.7)\" style=\"opacity: 1;\"><text class=\"legendtext\" text-anchor=\"start\" x=\"40\" y=\"4.680000000000001\" style=\"font-family: 'Open Sans', verdana, arial, sans-serif; font-size: 12px; fill: rgb(68, 68, 68); fill-opacity: 1; white-space: pre;\">Africa</text><g class=\"layers\" style=\"opacity: 1;\"><g class=\"legendfill\"/><g class=\"legendlines\"/><g class=\"legendsymbols\"><g class=\"legendpoints\"><path class=\"scatterpts\" transform=\"translate(20,0)\" d=\"M6,0A6,6 0 1,1 0,-6A6,6 0 0,1 6,0Z\" style=\"opacity: 0.7; stroke-width: 0px; fill: rgb(0, 0, 3); fill-opacity: 1;\"/></g></g></g><rect class=\"legendtoggle\" x=\"0\" y=\"-9.5\" width=\"95.15625\" height=\"19\" style=\"fill: rgb(0, 0, 0); fill-opacity: 0;\"/></g></g><g class=\"groups\" transform=\"\"><g class=\"traces\" transform=\"translate(0,89.7)\" style=\"opacity: 1;\"><text class=\"legendtext\" text-anchor=\"start\" x=\"40\" y=\"4.680000000000001\" style=\"font-family: 'Open Sans', verdana, arial, sans-serif; font-size: 12px; fill: rgb(68, 68, 68); fill-opacity: 1; white-space: pre;\">Americas</text><g class=\"layers\" style=\"opacity: 1;\"><g class=\"legendfill\"/><g class=\"legendlines\"/><g class=\"legendsymbols\"><g class=\"legendpoints\"><path class=\"scatterpts\" transform=\"translate(20,0)\" d=\"M6,0A6,6 0 1,1 0,-6A6,6 0 0,1 6,0Z\" style=\"opacity: 0.7; stroke-width: 0px; fill: rgb(0, 0, 4); fill-opacity: 1;\"/></g></g></g><rect class=\"legendtoggle\" x=\"0\" y=\"-9.5\" width=\"95.15625\" height=\"19\" style=\"fill: rgb(0, 0, 0); fill-opacity: 0;\"/></g></g><g class=\"groups\" transform=\"\"><g class=\"traces\" transform=\"translate(0,108.7)\" style=\"opacity: 1;\"><text class=\"legendtext\" text-anchor=\"start\" x=\"40\" y=\"4.680000000000001\" style=\"font-family: 'Open Sans', verdana, arial, sans-serif; font-size: 12px; fill: rgb(68, 68, 68); fill-opacity: 1; white-space: pre;\">Oceania</text><g class=\"layers\" style=\"opacity: 1;\"><g class=\"legendfill\"/><g class=\"legendlines\"/><g class=\"legendsymbols\"><g class=\"legendpoints\"><path class=\"scatterpts\" transform=\"translate(20,0)\" d=\"M6,0A6,6 0 1,1 0,-6A6,6 0 0,1 6,0Z\" style=\"opacity: 0.7; stroke-width: 0px; fill: rgb(0, 0, 5); fill-opacity: 1;\"/></g></g></g><rect class=\"legendtoggle\" x=\"0\" y=\"-9.5\" width=\"95.15625\" height=\"19\" style=\"fill: rgb(0, 0, 0); fill-opacity: 0;\"/></g></g></g><rect class=\"scrollbar\" rx=\"20\" ry=\"3\" width=\"0\" height=\"0\" style=\"fill: rgb(128, 139, 164); fill-opacity: 1;\" x=\"0\" y=\"0\"/></g><g class=\"g-gtitle\"/><g class=\"g-xtitle\"><text class=\"xtitle\" x=\"328.5\" y=\"472\" text-anchor=\"middle\" style=\"font-family: 'Open Sans', verdana, arial, sans-serif; font-size: 14px; fill: rgb(68, 68, 68); opacity: 1; white-space: pre;\">gdpPercap</text></g><g class=\"g-ytitle\"><text class=\"ytitle\" transform=\"rotate(-90,42,240)\" x=\"42\" y=\"240\" text-anchor=\"middle\" style=\"font-family: 'Open Sans', verdana, arial, sans-serif; font-size: 14px; fill: rgb(68, 68, 68); opacity: 1; white-space: pre;\">lifeExp</text></g></g></svg>"
      ]
     },
     "execution_count": null,
     "metadata": {},
     "output_type": "display_data"
    }
   ],
   "source": []
  },
  {
   "cell_type": "markdown",
   "id": "862a0459",
   "metadata": {
    "papermill": {
     "duration": 0.001585,
     "end_time": "2024-06-15T23:13:16.879218",
     "exception": false,
     "start_time": "2024-06-15T23:13:16.877633",
     "status": "completed"
    },
    "tags": []
   },
   "source": [
    "## Create app\n",
    "\n",
    "1. Create a file `app.py`\n",
    "2. Add the previous code"
   ]
  }
 ],
 "metadata": {
  "kernelspec": {
   "display_name": "work",
   "language": "python",
   "name": "python3"
  },
  "language_info": {
   "codemirror_mode": {
    "name": "ipython",
    "version": 3
   },
   "file_extension": ".py",
   "mimetype": "text/x-python",
   "name": "python",
   "nbconvert_exporter": "python",
   "pygments_lexer": "ipython3",
   "version": "3.12.3"
  },
  "papermill": {
   "default_parameters": {},
   "duration": 1.660139,
   "end_time": "2024-06-15T23:13:17.097934",
   "environment_variables": {},
   "exception": null,
   "input_path": "/Users/sota/Library/CloudStorage/Dropbox/2 Business/1 Datons/2 Areas/Courses/2 Catalogue/10 DF/1 Materials/DF-P/notebooks/20_Filter/2_Frontend/B_Solution.ipynb",
   "output_path": "/Users/sota/Library/CloudStorage/Dropbox/2 Business/1 Datons/2 Areas/Courses/2 Catalogue/10 DF/1 Materials/DF-P/notebooks/20_Filter/2_Frontend/B_Solution.ipynb",
   "parameters": {},
   "start_time": "2024-06-15T23:13:15.437795",
   "version": "2.6.0"
  }
 },
 "nbformat": 4,
 "nbformat_minor": 5
}
