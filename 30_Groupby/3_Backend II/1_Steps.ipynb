{
 "cells": [
  {
   "attachments": {},
   "cell_type": "markdown",
   "id": "60d416e0",
   "metadata": {
    "papermill": {
     "duration": 0.006546,
     "end_time": "2024-06-15T23:13:25.297510",
     "exception": false,
     "start_time": "2024-06-15T23:13:25.290964",
     "status": "completed"
    },
    "tags": []
   },
   "source": [
    "# Sketch BackEnd: Parametrized Data Operations"
   ]
  },
  {
   "attachments": {},
   "cell_type": "markdown",
   "id": "0d8a0d93",
   "metadata": {
    "papermill": {
     "duration": 0.002815,
     "end_time": "2024-06-15T23:13:25.302996",
     "exception": false,
     "start_time": "2024-06-15T23:13:25.300181",
     "status": "completed"
    },
    "tags": []
   },
   "source": [
    "## Load data"
   ]
  },
  {
   "cell_type": "code",
   "execution_count": null,
   "id": "67db926c",
   "metadata": {
    "execution": {
     "iopub.execute_input": "2024-06-15T23:13:25.309817Z",
     "iopub.status.busy": "2024-06-15T23:13:25.309522Z",
     "iopub.status.idle": "2024-06-15T23:13:25.359841Z",
     "shell.execute_reply": "2024-06-15T23:13:25.359498Z"
    },
    "papermill": {
     "duration": 0.054935,
     "end_time": "2024-06-15T23:13:25.360810",
     "exception": false,
     "start_time": "2024-06-15T23:13:25.305875",
     "status": "completed"
    },
    "tags": []
   },
   "outputs": [
    {
     "data": {
      "text/html": [
       "<div>\n",
       "<style scoped>\n",
       "    .dataframe tbody tr th:only-of-type {\n",
       "        vertical-align: middle;\n",
       "    }\n",
       "\n",
       "    .dataframe tbody tr th {\n",
       "        vertical-align: top;\n",
       "    }\n",
       "\n",
       "    .dataframe thead th {\n",
       "        text-align: right;\n",
       "    }\n",
       "</style>\n",
       "<table border=\"1\" class=\"dataframe\">\n",
       "  <thead>\n",
       "    <tr style=\"text-align: right;\">\n",
       "      <th></th>\n",
       "      <th></th>\n",
       "      <th></th>\n",
       "      <th></th>\n",
       "      <th></th>\n",
       "      <th></th>\n",
       "      <th>Hydraulic</th>\n",
       "      <th>Adjustment P48</th>\n",
       "      <th>Balance Andorra</th>\n",
       "      <th>Balance Morocco</th>\n",
       "      <th>Balance France</th>\n",
       "      <th>Balance Portugal</th>\n",
       "      <th>Other Renewables</th>\n",
       "      <th>Non-Renewable Waste</th>\n",
       "      <th>Cogeneration</th>\n",
       "      <th>Wind</th>\n",
       "      <th>Fuel-Gas</th>\n",
       "      <th>Coal</th>\n",
       "      <th>Balearic Link</th>\n",
       "      <th>Pumping Consumption</th>\n",
       "      <th>Solar Thermal</th>\n",
       "      <th>Solar Photovoltaic</th>\n",
       "      <th>Combined Cycle</th>\n",
       "      <th>Pumping Turbine</th>\n",
       "      <th>Nuclear</th>\n",
       "    </tr>\n",
       "    <tr>\n",
       "      <th>year</th>\n",
       "      <th>month</th>\n",
       "      <th>day</th>\n",
       "      <th>hour</th>\n",
       "      <th>weekday</th>\n",
       "      <th>weekend</th>\n",
       "      <th></th>\n",
       "      <th></th>\n",
       "      <th></th>\n",
       "      <th></th>\n",
       "      <th></th>\n",
       "      <th></th>\n",
       "      <th></th>\n",
       "      <th></th>\n",
       "      <th></th>\n",
       "      <th></th>\n",
       "      <th></th>\n",
       "      <th></th>\n",
       "      <th></th>\n",
       "      <th></th>\n",
       "      <th></th>\n",
       "      <th></th>\n",
       "      <th></th>\n",
       "      <th></th>\n",
       "      <th></th>\n",
       "    </tr>\n",
       "  </thead>\n",
       "  <tbody>\n",
       "    <tr>\n",
       "      <th rowspan=\"2\" valign=\"top\">2015</th>\n",
       "      <th rowspan=\"2\" valign=\"top\">1</th>\n",
       "      <th rowspan=\"2\" valign=\"top\">1</th>\n",
       "      <th>0</th>\n",
       "      <th>3</th>\n",
       "      <th>0</th>\n",
       "      <td>2621.90</td>\n",
       "      <td>1300.0</td>\n",
       "      <td>-36.0</td>\n",
       "      <td>-540.0</td>\n",
       "      <td>-1000.0</td>\n",
       "      <td>291.7</td>\n",
       "      <td>486.4</td>\n",
       "      <td>NaN</td>\n",
       "      <td>1586.9</td>\n",
       "      <td>5517.400</td>\n",
       "      <td>421.6</td>\n",
       "      <td>5077.9</td>\n",
       "      <td>-128.0</td>\n",
       "      <td>-850.000</td>\n",
       "      <td>16.0</td>\n",
       "      <td>NaN</td>\n",
       "      <td>3458.10</td>\n",
       "      <td>NaN</td>\n",
       "      <td>7105.00</td>\n",
       "    </tr>\n",
       "    <tr>\n",
       "      <th>1</th>\n",
       "      <th>3</th>\n",
       "      <th>0</th>\n",
       "      <td>2532.30</td>\n",
       "      <td>1000.0</td>\n",
       "      <td>-35.0</td>\n",
       "      <td>-600.0</td>\n",
       "      <td>-1100.0</td>\n",
       "      <td>-44.1</td>\n",
       "      <td>486.4</td>\n",
       "      <td>NaN</td>\n",
       "      <td>1591.2</td>\n",
       "      <td>5034.400</td>\n",
       "      <td>422.3</td>\n",
       "      <td>5086.3</td>\n",
       "      <td>-102.0</td>\n",
       "      <td>-850.000</td>\n",
       "      <td>16.0</td>\n",
       "      <td>NaN</td>\n",
       "      <td>3789.50</td>\n",
       "      <td>NaN</td>\n",
       "      <td>7104.00</td>\n",
       "    </tr>\n",
       "    <tr>\n",
       "      <th>...</th>\n",
       "      <th>...</th>\n",
       "      <th>...</th>\n",
       "      <th>...</th>\n",
       "      <th>...</th>\n",
       "      <th>...</th>\n",
       "      <td>...</td>\n",
       "      <td>...</td>\n",
       "      <td>...</td>\n",
       "      <td>...</td>\n",
       "      <td>...</td>\n",
       "      <td>...</td>\n",
       "      <td>...</td>\n",
       "      <td>...</td>\n",
       "      <td>...</td>\n",
       "      <td>...</td>\n",
       "      <td>...</td>\n",
       "      <td>...</td>\n",
       "      <td>...</td>\n",
       "      <td>...</td>\n",
       "      <td>...</td>\n",
       "      <td>...</td>\n",
       "      <td>...</td>\n",
       "      <td>...</td>\n",
       "      <td>...</td>\n",
       "    </tr>\n",
       "    <tr>\n",
       "      <th rowspan=\"2\" valign=\"top\">2022</th>\n",
       "      <th rowspan=\"2\" valign=\"top\">12</th>\n",
       "      <th rowspan=\"2\" valign=\"top\">31</th>\n",
       "      <th>22</th>\n",
       "      <th>5</th>\n",
       "      <th>1</th>\n",
       "      <td>4055.50</td>\n",
       "      <td>-200.0</td>\n",
       "      <td>-67.0</td>\n",
       "      <td>-740.0</td>\n",
       "      <td>-1715.8</td>\n",
       "      <td>3355.0</td>\n",
       "      <td>259.2</td>\n",
       "      <td>264.7</td>\n",
       "      <td>760.6</td>\n",
       "      <td>8871.225</td>\n",
       "      <td>NaN</td>\n",
       "      <td>260.0</td>\n",
       "      <td>-153.0</td>\n",
       "      <td>-1846.700</td>\n",
       "      <td>NaN</td>\n",
       "      <td>1.7</td>\n",
       "      <td>1725.00</td>\n",
       "      <td>689.6000</td>\n",
       "      <td>6457.75</td>\n",
       "    </tr>\n",
       "    <tr>\n",
       "      <th>23</th>\n",
       "      <th>5</th>\n",
       "      <th>1</th>\n",
       "      <td>3963.95</td>\n",
       "      <td>-200.0</td>\n",
       "      <td>-62.0</td>\n",
       "      <td>-750.0</td>\n",
       "      <td>-258.0</td>\n",
       "      <td>2755.0</td>\n",
       "      <td>257.2</td>\n",
       "      <td>264.9</td>\n",
       "      <td>761.6</td>\n",
       "      <td>7506.300</td>\n",
       "      <td>NaN</td>\n",
       "      <td>260.0</td>\n",
       "      <td>-128.0</td>\n",
       "      <td>-2632.025</td>\n",
       "      <td>NaN</td>\n",
       "      <td>1.6</td>\n",
       "      <td>2104.55</td>\n",
       "      <td>240.9125</td>\n",
       "      <td>6415.45</td>\n",
       "    </tr>\n",
       "  </tbody>\n",
       "</table>\n",
       "<p>70128 rows × 19 columns</p>\n",
       "</div>"
      ],
      "text/plain": [
       "                                     Hydraulic  Adjustment P48  \\\n",
       "year month day hour weekday weekend                              \n",
       "2015 1     1   0    3       0          2621.90          1300.0   \n",
       "               1    3       0          2532.30          1000.0   \n",
       "...                                        ...             ...   \n",
       "2022 12    31  22   5       1          4055.50          -200.0   \n",
       "               23   5       1          3963.95          -200.0   \n",
       "\n",
       "                                     Balance Andorra  Balance Morocco  \\\n",
       "year month day hour weekday weekend                                     \n",
       "2015 1     1   0    3       0                  -36.0           -540.0   \n",
       "               1    3       0                  -35.0           -600.0   \n",
       "...                                              ...              ...   \n",
       "2022 12    31  22   5       1                  -67.0           -740.0   \n",
       "               23   5       1                  -62.0           -750.0   \n",
       "\n",
       "                                     Balance France  Balance Portugal  \\\n",
       "year month day hour weekday weekend                                     \n",
       "2015 1     1   0    3       0               -1000.0             291.7   \n",
       "               1    3       0               -1100.0             -44.1   \n",
       "...                                             ...               ...   \n",
       "2022 12    31  22   5       1               -1715.8            3355.0   \n",
       "               23   5       1                -258.0            2755.0   \n",
       "\n",
       "                                     Other Renewables  Non-Renewable Waste  \\\n",
       "year month day hour weekday weekend                                          \n",
       "2015 1     1   0    3       0                   486.4                  NaN   \n",
       "               1    3       0                   486.4                  NaN   \n",
       "...                                               ...                  ...   \n",
       "2022 12    31  22   5       1                   259.2                264.7   \n",
       "               23   5       1                   257.2                264.9   \n",
       "\n",
       "                                     Cogeneration      Wind  Fuel-Gas    Coal  \\\n",
       "year month day hour weekday weekend                                             \n",
       "2015 1     1   0    3       0              1586.9  5517.400     421.6  5077.9   \n",
       "               1    3       0              1591.2  5034.400     422.3  5086.3   \n",
       "...                                           ...       ...       ...     ...   \n",
       "2022 12    31  22   5       1               760.6  8871.225       NaN   260.0   \n",
       "               23   5       1               761.6  7506.300       NaN   260.0   \n",
       "\n",
       "                                     Balearic Link  Pumping Consumption  \\\n",
       "year month day hour weekday weekend                                       \n",
       "2015 1     1   0    3       0               -128.0             -850.000   \n",
       "               1    3       0               -102.0             -850.000   \n",
       "...                                            ...                  ...   \n",
       "2022 12    31  22   5       1               -153.0            -1846.700   \n",
       "               23   5       1               -128.0            -2632.025   \n",
       "\n",
       "                                     Solar Thermal  Solar Photovoltaic  \\\n",
       "year month day hour weekday weekend                                      \n",
       "2015 1     1   0    3       0                 16.0                 NaN   \n",
       "               1    3       0                 16.0                 NaN   \n",
       "...                                            ...                 ...   \n",
       "2022 12    31  22   5       1                  NaN                 1.7   \n",
       "               23   5       1                  NaN                 1.6   \n",
       "\n",
       "                                     Combined Cycle  Pumping Turbine  Nuclear  \n",
       "year month day hour weekday weekend                                            \n",
       "2015 1     1   0    3       0               3458.10              NaN  7105.00  \n",
       "               1    3       0               3789.50              NaN  7104.00  \n",
       "...                                             ...              ...      ...  \n",
       "2022 12    31  22   5       1               1725.00         689.6000  6457.75  \n",
       "               23   5       1               2104.55         240.9125  6415.45  \n",
       "\n",
       "[70128 rows x 19 columns]"
      ]
     },
     "execution_count": null,
     "metadata": {},
     "output_type": "execute_result"
    }
   ],
   "source": []
  },
  {
   "cell_type": "markdown",
   "id": "ef9dd2ec",
   "metadata": {
    "papermill": {
     "duration": 0.001166,
     "end_time": "2024-06-15T23:13:25.363746",
     "exception": false,
     "start_time": "2024-06-15T23:13:25.362580",
     "status": "completed"
    },
    "tags": []
   },
   "source": [
    "## Parameters"
   ]
  },
  {
   "cell_type": "code",
   "execution_count": null,
   "id": "43009a86",
   "metadata": {
    "execution": {
     "iopub.execute_input": "2024-06-15T23:13:25.366721Z",
     "iopub.status.busy": "2024-06-15T23:13:25.366506Z",
     "iopub.status.idle": "2024-06-15T23:13:25.368437Z",
     "shell.execute_reply": "2024-06-15T23:13:25.368235Z"
    },
    "papermill": {
     "duration": 0.004432,
     "end_time": "2024-06-15T23:13:25.369263",
     "exception": false,
     "start_time": "2024-06-15T23:13:25.364831",
     "status": "completed"
    },
    "tags": []
   },
   "outputs": [],
   "source": []
  },
  {
   "cell_type": "markdown",
   "id": "108de8d8",
   "metadata": {
    "papermill": {
     "duration": 0.001132,
     "end_time": "2024-06-15T23:13:25.371700",
     "exception": false,
     "start_time": "2024-06-15T23:13:25.370568",
     "status": "completed"
    },
    "tags": []
   },
   "source": [
    "## Filter"
   ]
  },
  {
   "cell_type": "code",
   "execution_count": null,
   "id": "450f7081",
   "metadata": {
    "execution": {
     "iopub.execute_input": "2024-06-15T23:13:25.374489Z",
     "iopub.status.busy": "2024-06-15T23:13:25.374295Z",
     "iopub.status.idle": "2024-06-15T23:13:25.380287Z",
     "shell.execute_reply": "2024-06-15T23:13:25.380063Z"
    },
    "papermill": {
     "duration": 0.008342,
     "end_time": "2024-06-15T23:13:25.381066",
     "exception": false,
     "start_time": "2024-06-15T23:13:25.372724",
     "status": "completed"
    },
    "tags": []
   },
   "outputs": [
    {
     "data": {
      "text/html": [
       "<div>\n",
       "<style scoped>\n",
       "    .dataframe tbody tr th:only-of-type {\n",
       "        vertical-align: middle;\n",
       "    }\n",
       "\n",
       "    .dataframe tbody tr th {\n",
       "        vertical-align: top;\n",
       "    }\n",
       "\n",
       "    .dataframe thead th {\n",
       "        text-align: right;\n",
       "    }\n",
       "</style>\n",
       "<table border=\"1\" class=\"dataframe\">\n",
       "  <thead>\n",
       "    <tr style=\"text-align: right;\">\n",
       "      <th></th>\n",
       "      <th></th>\n",
       "      <th></th>\n",
       "      <th></th>\n",
       "      <th></th>\n",
       "      <th>Solar Photovoltaic</th>\n",
       "      <th>Combined Cycle</th>\n",
       "      <th>Wind</th>\n",
       "    </tr>\n",
       "    <tr>\n",
       "      <th>month</th>\n",
       "      <th>day</th>\n",
       "      <th>hour</th>\n",
       "      <th>weekday</th>\n",
       "      <th>weekend</th>\n",
       "      <th></th>\n",
       "      <th></th>\n",
       "      <th></th>\n",
       "    </tr>\n",
       "  </thead>\n",
       "  <tbody>\n",
       "    <tr>\n",
       "      <th rowspan=\"2\" valign=\"top\">1</th>\n",
       "      <th rowspan=\"2\" valign=\"top\">1</th>\n",
       "      <th>0</th>\n",
       "      <th>5</th>\n",
       "      <th>1</th>\n",
       "      <td>7.1</td>\n",
       "      <td>1885.40</td>\n",
       "      <td>6380.800</td>\n",
       "    </tr>\n",
       "    <tr>\n",
       "      <th>1</th>\n",
       "      <th>5</th>\n",
       "      <th>1</th>\n",
       "      <td>19.1</td>\n",
       "      <td>1948.80</td>\n",
       "      <td>6563.300</td>\n",
       "    </tr>\n",
       "    <tr>\n",
       "      <th>...</th>\n",
       "      <th>...</th>\n",
       "      <th>...</th>\n",
       "      <th>...</th>\n",
       "      <th>...</th>\n",
       "      <td>...</td>\n",
       "      <td>...</td>\n",
       "      <td>...</td>\n",
       "    </tr>\n",
       "    <tr>\n",
       "      <th rowspan=\"2\" valign=\"top\">12</th>\n",
       "      <th rowspan=\"2\" valign=\"top\">31</th>\n",
       "      <th>22</th>\n",
       "      <th>5</th>\n",
       "      <th>1</th>\n",
       "      <td>1.7</td>\n",
       "      <td>1725.00</td>\n",
       "      <td>8871.225</td>\n",
       "    </tr>\n",
       "    <tr>\n",
       "      <th>23</th>\n",
       "      <th>5</th>\n",
       "      <th>1</th>\n",
       "      <td>1.6</td>\n",
       "      <td>2104.55</td>\n",
       "      <td>7506.300</td>\n",
       "    </tr>\n",
       "  </tbody>\n",
       "</table>\n",
       "<p>8760 rows × 3 columns</p>\n",
       "</div>"
      ],
      "text/plain": [
       "                                Solar Photovoltaic  Combined Cycle      Wind\n",
       "month day hour weekday weekend                                              \n",
       "1     1   0    5       1                       7.1         1885.40  6380.800\n",
       "          1    5       1                      19.1         1948.80  6563.300\n",
       "...                                            ...             ...       ...\n",
       "12    31  22   5       1                       1.7         1725.00  8871.225\n",
       "          23   5       1                       1.6         2104.55  7506.300\n",
       "\n",
       "[8760 rows x 3 columns]"
      ]
     },
     "execution_count": null,
     "metadata": {},
     "output_type": "execute_result"
    }
   ],
   "source": []
  },
  {
   "cell_type": "markdown",
   "id": "af4057c4",
   "metadata": {
    "papermill": {
     "duration": 0.001357,
     "end_time": "2024-06-15T23:13:25.384137",
     "exception": false,
     "start_time": "2024-06-15T23:13:25.382780",
     "status": "completed"
    },
    "tags": []
   },
   "source": [
    "## Data aggregation"
   ]
  },
  {
   "cell_type": "code",
   "execution_count": null,
   "id": "527745b5",
   "metadata": {
    "execution": {
     "iopub.execute_input": "2024-06-15T23:13:25.387455Z",
     "iopub.status.busy": "2024-06-15T23:13:25.387302Z",
     "iopub.status.idle": "2024-06-15T23:13:25.392572Z",
     "shell.execute_reply": "2024-06-15T23:13:25.392265Z"
    },
    "papermill": {
     "duration": 0.008593,
     "end_time": "2024-06-15T23:13:25.393962",
     "exception": false,
     "start_time": "2024-06-15T23:13:25.385369",
     "status": "completed"
    },
    "tags": []
   },
   "outputs": [
    {
     "data": {
      "text/html": [
       "<div>\n",
       "<style scoped>\n",
       "    .dataframe tbody tr th:only-of-type {\n",
       "        vertical-align: middle;\n",
       "    }\n",
       "\n",
       "    .dataframe tbody tr th {\n",
       "        vertical-align: top;\n",
       "    }\n",
       "\n",
       "    .dataframe thead th {\n",
       "        text-align: right;\n",
       "    }\n",
       "</style>\n",
       "<table border=\"1\" class=\"dataframe\">\n",
       "  <thead>\n",
       "    <tr style=\"text-align: right;\">\n",
       "      <th></th>\n",
       "      <th>Solar Photovoltaic</th>\n",
       "      <th>Combined Cycle</th>\n",
       "      <th>Wind</th>\n",
       "    </tr>\n",
       "    <tr>\n",
       "      <th>month</th>\n",
       "      <th></th>\n",
       "      <th></th>\n",
       "      <th></th>\n",
       "    </tr>\n",
       "  </thead>\n",
       "  <tbody>\n",
       "    <tr>\n",
       "      <th>1</th>\n",
       "      <td>2008.105142</td>\n",
       "      <td>7071.532392</td>\n",
       "      <td>7188.937903</td>\n",
       "    </tr>\n",
       "    <tr>\n",
       "      <th>2</th>\n",
       "      <td>2453.092411</td>\n",
       "      <td>6173.066071</td>\n",
       "      <td>6915.188542</td>\n",
       "    </tr>\n",
       "    <tr>\n",
       "      <th>...</th>\n",
       "      <td>...</td>\n",
       "      <td>...</td>\n",
       "      <td>...</td>\n",
       "    </tr>\n",
       "    <tr>\n",
       "      <th>11</th>\n",
       "      <td>2133.327069</td>\n",
       "      <td>5872.486438</td>\n",
       "      <td>9246.946589</td>\n",
       "    </tr>\n",
       "    <tr>\n",
       "      <th>12</th>\n",
       "      <td>1581.815902</td>\n",
       "      <td>5125.014039</td>\n",
       "      <td>7622.830462</td>\n",
       "    </tr>\n",
       "  </tbody>\n",
       "</table>\n",
       "<p>12 rows × 3 columns</p>\n",
       "</div>"
      ],
      "text/plain": [
       "       Solar Photovoltaic  Combined Cycle         Wind\n",
       "month                                                 \n",
       "1             2008.105142     7071.532392  7188.937903\n",
       "2             2453.092411     6173.066071  6915.188542\n",
       "...                   ...             ...          ...\n",
       "11            2133.327069     5872.486438  9246.946589\n",
       "12            1581.815902     5125.014039  7622.830462\n",
       "\n",
       "[12 rows x 3 columns]"
      ]
     },
     "execution_count": null,
     "metadata": {},
     "output_type": "execute_result"
    }
   ],
   "source": []
  },
  {
   "cell_type": "markdown",
   "id": "69cb07ff",
   "metadata": {
    "papermill": {
     "duration": 0.001632,
     "end_time": "2024-06-15T23:13:25.397490",
     "exception": false,
     "start_time": "2024-06-15T23:13:25.395858",
     "status": "completed"
    },
    "tags": []
   },
   "source": [
    "## Transform data to long format"
   ]
  },
  {
   "cell_type": "code",
   "execution_count": null,
   "id": "8e934da0",
   "metadata": {
    "execution": {
     "iopub.execute_input": "2024-06-15T23:13:25.401685Z",
     "iopub.status.busy": "2024-06-15T23:13:25.401510Z",
     "iopub.status.idle": "2024-06-15T23:13:25.406881Z",
     "shell.execute_reply": "2024-06-15T23:13:25.406605Z"
    },
    "papermill": {
     "duration": 0.00859,
     "end_time": "2024-06-15T23:13:25.407870",
     "exception": false,
     "start_time": "2024-06-15T23:13:25.399280",
     "status": "completed"
    },
    "tags": []
   },
   "outputs": [
    {
     "data": {
      "text/html": [
       "<div>\n",
       "<style scoped>\n",
       "    .dataframe tbody tr th:only-of-type {\n",
       "        vertical-align: middle;\n",
       "    }\n",
       "\n",
       "    .dataframe tbody tr th {\n",
       "        vertical-align: top;\n",
       "    }\n",
       "\n",
       "    .dataframe thead th {\n",
       "        text-align: right;\n",
       "    }\n",
       "</style>\n",
       "<table border=\"1\" class=\"dataframe\">\n",
       "  <thead>\n",
       "    <tr style=\"text-align: right;\">\n",
       "      <th></th>\n",
       "      <th>month</th>\n",
       "      <th>variable</th>\n",
       "      <th>value</th>\n",
       "    </tr>\n",
       "  </thead>\n",
       "  <tbody>\n",
       "    <tr>\n",
       "      <th>0</th>\n",
       "      <td>1</td>\n",
       "      <td>Solar Photovoltaic</td>\n",
       "      <td>2008.105142</td>\n",
       "    </tr>\n",
       "    <tr>\n",
       "      <th>1</th>\n",
       "      <td>2</td>\n",
       "      <td>Solar Photovoltaic</td>\n",
       "      <td>2453.092411</td>\n",
       "    </tr>\n",
       "    <tr>\n",
       "      <th>...</th>\n",
       "      <td>...</td>\n",
       "      <td>...</td>\n",
       "      <td>...</td>\n",
       "    </tr>\n",
       "    <tr>\n",
       "      <th>34</th>\n",
       "      <td>11</td>\n",
       "      <td>Wind</td>\n",
       "      <td>9246.946589</td>\n",
       "    </tr>\n",
       "    <tr>\n",
       "      <th>35</th>\n",
       "      <td>12</td>\n",
       "      <td>Wind</td>\n",
       "      <td>7622.830462</td>\n",
       "    </tr>\n",
       "  </tbody>\n",
       "</table>\n",
       "<p>36 rows × 3 columns</p>\n",
       "</div>"
      ],
      "text/plain": [
       "    month            variable        value\n",
       "0       1  Solar Photovoltaic  2008.105142\n",
       "1       2  Solar Photovoltaic  2453.092411\n",
       "..    ...                 ...          ...\n",
       "34     11                Wind  9246.946589\n",
       "35     12                Wind  7622.830462\n",
       "\n",
       "[36 rows x 3 columns]"
      ]
     },
     "execution_count": null,
     "metadata": {},
     "output_type": "execute_result"
    }
   ],
   "source": []
  },
  {
   "cell_type": "markdown",
   "id": "ce1ca0c2",
   "metadata": {
    "papermill": {
     "duration": 0.001811,
     "end_time": "2024-06-15T23:13:25.411594",
     "exception": false,
     "start_time": "2024-06-15T23:13:25.409783",
     "status": "completed"
    },
    "tags": []
   },
   "source": [
    "## Data visualization"
   ]
  },
  {
   "cell_type": "code",
   "execution_count": null,
   "id": "4f329ac8",
   "metadata": {
    "execution": {
     "iopub.execute_input": "2024-06-15T23:13:25.415517Z",
     "iopub.status.busy": "2024-06-15T23:13:25.415293Z",
     "iopub.status.idle": "2024-06-15T23:13:25.949566Z",
     "shell.execute_reply": "2024-06-15T23:13:25.949247Z"
    },
    "papermill": {
     "duration": 0.537056,
     "end_time": "2024-06-15T23:13:25.950415",
     "exception": false,
     "start_time": "2024-06-15T23:13:25.413359",
     "status": "completed"
    },
    "tags": []
   },
   "outputs": [
    {
     "data": {
      "image/svg+xml": [
       "<svg class=\"main-svg\" xmlns=\"http://www.w3.org/2000/svg\" xmlns:xlink=\"http://www.w3.org/1999/xlink\" width=\"700\" height=\"500\" style=\"\" viewBox=\"0 0 700 500\"><rect x=\"0\" y=\"0\" width=\"700\" height=\"500\" style=\"fill: rgb(255, 255, 255); fill-opacity: 1;\"/><defs id=\"defs-ff6166\"><g class=\"clips\"><clipPath id=\"clipff6166xyplot\" class=\"plotclip\"><rect width=\"436.09999999999997\" height=\"112.79999999999998\"/></clipPath><clipPath id=\"clipff6166x2y2plot\" class=\"plotclip\"><rect width=\"436.09999999999997\" height=\"112.79999999999997\"/></clipPath><clipPath id=\"clipff6166x3y3plot\" class=\"plotclip\"><rect width=\"436.09999999999997\" height=\"112.79999999999997\"/></clipPath><clipPath class=\"axesclip\" id=\"clipff6166x\"><rect x=\"80\" y=\"0\" width=\"436.09999999999997\" height=\"500\"/></clipPath><clipPath class=\"axesclip\" id=\"clipff6166y\"><rect x=\"0\" y=\"307.20000000000005\" width=\"700\" height=\"112.79999999999998\"/></clipPath><clipPath class=\"axesclip\" id=\"clipff6166xy\"><rect x=\"80\" y=\"307.20000000000005\" width=\"436.09999999999997\" height=\"112.79999999999998\"/></clipPath><clipPath class=\"axesclip\" id=\"clipff6166y2\"><rect x=\"0\" y=\"183.60000000000005\" width=\"700\" height=\"112.79999999999997\"/></clipPath><clipPath class=\"axesclip\" id=\"clipff6166xy2\"><rect x=\"80\" y=\"183.60000000000005\" width=\"436.09999999999997\" height=\"112.79999999999997\"/></clipPath><clipPath class=\"axesclip\" id=\"clipff6166y3\"><rect x=\"0\" y=\"60.00000000000008\" width=\"700\" height=\"112.79999999999997\"/></clipPath><clipPath class=\"axesclip\" id=\"clipff6166xy3\"><rect x=\"80\" y=\"60.00000000000008\" width=\"436.09999999999997\" height=\"112.79999999999997\"/></clipPath><clipPath class=\"axesclip\" id=\"clipff6166x2\"><rect x=\"80\" y=\"0\" width=\"436.09999999999997\" height=\"500\"/></clipPath><clipPath class=\"axesclip\" id=\"clipff6166x2y\"><rect x=\"80\" y=\"307.20000000000005\" width=\"436.09999999999997\" height=\"112.79999999999998\"/></clipPath><clipPath class=\"axesclip\" id=\"clipff6166x2y2\"><rect x=\"80\" y=\"183.60000000000005\" width=\"436.09999999999997\" height=\"112.79999999999997\"/></clipPath><clipPath class=\"axesclip\" id=\"clipff6166x2y3\"><rect x=\"80\" y=\"60.00000000000008\" width=\"436.09999999999997\" height=\"112.79999999999997\"/></clipPath><clipPath class=\"axesclip\" id=\"clipff6166x3\"><rect x=\"80\" y=\"0\" width=\"436.09999999999997\" height=\"500\"/></clipPath><clipPath class=\"axesclip\" id=\"clipff6166x3y\"><rect x=\"80\" y=\"307.20000000000005\" width=\"436.09999999999997\" height=\"112.79999999999998\"/></clipPath><clipPath class=\"axesclip\" id=\"clipff6166x3y2\"><rect x=\"80\" y=\"183.60000000000005\" width=\"436.09999999999997\" height=\"112.79999999999997\"/></clipPath><clipPath class=\"axesclip\" id=\"clipff6166x3y3\"><rect x=\"80\" y=\"60.00000000000008\" width=\"436.09999999999997\" height=\"112.79999999999997\"/></clipPath></g><g class=\"gradients\"/><g class=\"patterns\"/></defs><g class=\"bglayer\"><rect class=\"bg\" x=\"80\" y=\"307.20000000000005\" width=\"436.09999999999997\" height=\"112.79999999999998\" style=\"fill: rgb(229, 236, 246); fill-opacity: 1; stroke-width: 0;\"/><rect class=\"bg\" x=\"80\" y=\"183.60000000000005\" width=\"436.09999999999997\" height=\"112.79999999999997\" style=\"fill: rgb(229, 236, 246); fill-opacity: 1; stroke-width: 0;\"/><rect class=\"bg\" x=\"80\" y=\"60.00000000000008\" width=\"436.09999999999997\" height=\"112.79999999999997\" style=\"fill: rgb(229, 236, 246); fill-opacity: 1; stroke-width: 0;\"/></g><g class=\"layer-below\"><g class=\"imagelayer\"/><g class=\"shapelayer\"/></g><g class=\"cartesianlayer\"><g class=\"subplot xy\"><g class=\"layer-subplot\"><g class=\"shapelayer\"/><g class=\"imagelayer\"/></g><g class=\"minor-gridlayer\"><g class=\"x\"/><g class=\"y\"/></g><g class=\"gridlayer\"><g class=\"x\"/><g class=\"y\"><path class=\"ygrid crisp\" transform=\"translate(0,370.18000000000006)\" d=\"M80,0h436.09999999999997\" style=\"stroke: rgb(255, 255, 255); stroke-opacity: 1; stroke-width: 1px;\"/><path class=\"ygrid crisp\" transform=\"translate(0,320.36000000000007)\" d=\"M80,0h436.09999999999997\" style=\"stroke: rgb(255, 255, 255); stroke-opacity: 1; stroke-width: 1px;\"/></g></g><g class=\"zerolinelayer\"><path class=\"yzl zl crisp\" transform=\"translate(0,420.00000000000006)\" d=\"M80,0h436.09999999999997\" style=\"stroke: rgb(255, 255, 255); stroke-opacity: 1; stroke-width: 2px;\"/></g><g class=\"layer-between\"><g class=\"shapelayer\"/><g class=\"imagelayer\"/></g><path class=\"xlines-below\"/><path class=\"ylines-below\"/><g class=\"overlines-below\"/><g class=\"xaxislayer-below\"/><g class=\"yaxislayer-below\"/><g class=\"overaxes-below\"/><g class=\"plot\" transform=\"translate(80,307.20000000000005)\" clip-path=\"url(#clipff6166xyplot)\"><g class=\"barlayer mlayer\"><g class=\"trace bars\" style=\"opacity: 1;\"><g class=\"points\"><g class=\"point\"><path d=\"M3.63,112.8V41.17H32.71V112.8Z\" style=\"vector-effect: none; opacity: 1; stroke-width: 0.5px; fill: rgb(0, 204, 150); fill-opacity: 1; stroke: rgb(229, 236, 246); stroke-opacity: 1;\"/></g><g class=\"point\"><path d=\"M39.98,112.8V43.9H69.05V112.8Z\" style=\"vector-effect: none; opacity: 1; stroke-width: 0.5px; fill: rgb(0, 204, 150); fill-opacity: 1; stroke: rgb(229, 236, 246); stroke-opacity: 1;\"/></g><g class=\"point\"><path d=\"M76.32,112.8V26.21H105.39V112.8Z\" style=\"vector-effect: none; opacity: 1; stroke-width: 0.5px; fill: rgb(0, 204, 150); fill-opacity: 1; stroke: rgb(229, 236, 246); stroke-opacity: 1;\"/></g><g class=\"point\"><path d=\"M112.66,112.8V34.49H141.73V112.8Z\" style=\"vector-effect: none; opacity: 1; stroke-width: 0.5px; fill: rgb(0, 204, 150); fill-opacity: 1; stroke: rgb(229, 236, 246); stroke-opacity: 1;\"/></g><g class=\"point\"><path d=\"M149,112.8V50.35H178.07V112.8Z\" style=\"vector-effect: none; opacity: 1; stroke-width: 0.5px; fill: rgb(0, 204, 150); fill-opacity: 1; stroke: rgb(229, 236, 246); stroke-opacity: 1;\"/></g><g class=\"point\"><path d=\"M185.34,112.8V63.01H214.42V112.8Z\" style=\"vector-effect: none; opacity: 1; stroke-width: 0.5px; fill: rgb(0, 204, 150); fill-opacity: 1; stroke: rgb(229, 236, 246); stroke-opacity: 1;\"/></g><g class=\"point\"><path d=\"M221.68,112.8V54.68H250.76V112.8Z\" style=\"vector-effect: none; opacity: 1; stroke-width: 0.5px; fill: rgb(0, 204, 150); fill-opacity: 1; stroke: rgb(229, 236, 246); stroke-opacity: 1;\"/></g><g class=\"point\"><path d=\"M258.03,112.8V61.22H287.1V112.8Z\" style=\"vector-effect: none; opacity: 1; stroke-width: 0.5px; fill: rgb(0, 204, 150); fill-opacity: 1; stroke: rgb(229, 236, 246); stroke-opacity: 1;\"/></g><g class=\"point\"><path d=\"M294.37,112.8V56.64H323.44V112.8Z\" style=\"vector-effect: none; opacity: 1; stroke-width: 0.5px; fill: rgb(0, 204, 150); fill-opacity: 1; stroke: rgb(229, 236, 246); stroke-opacity: 1;\"/></g><g class=\"point\"><path d=\"M330.71,112.8V45.73H359.78V112.8Z\" style=\"vector-effect: none; opacity: 1; stroke-width: 0.5px; fill: rgb(0, 204, 150); fill-opacity: 1; stroke: rgb(229, 236, 246); stroke-opacity: 1;\"/></g><g class=\"point\"><path d=\"M367.05,112.8V20.66H396.12V112.8Z\" style=\"vector-effect: none; opacity: 1; stroke-width: 0.5px; fill: rgb(0, 204, 150); fill-opacity: 1; stroke: rgb(229, 236, 246); stroke-opacity: 1;\"/></g><g class=\"point\"><path d=\"M403.39,112.8V36.85H432.47V112.8Z\" style=\"vector-effect: none; opacity: 1; stroke-width: 0.5px; fill: rgb(0, 204, 150); fill-opacity: 1; stroke: rgb(229, 236, 246); stroke-opacity: 1;\"/></g></g></g></g></g><g class=\"overplot\"/><path class=\"xlines-above crisp\" d=\"M0,0\" style=\"fill: none;\"/><path class=\"ylines-above crisp\" d=\"M0,0\" style=\"fill: none;\"/><g class=\"overlines-above\"/><g class=\"xaxislayer-above\"><g class=\"xtick\"><text text-anchor=\"middle\" x=\"0\" y=\"433\" transform=\"translate(134.51,0)\" style=\"font-family: 'Open Sans', verdana, arial, sans-serif; font-size: 12px; fill: rgb(42, 63, 95); fill-opacity: 1; white-space: pre; opacity: 1;\">2</text></g><g class=\"xtick\"><text text-anchor=\"middle\" x=\"0\" y=\"433\" style=\"font-family: 'Open Sans', verdana, arial, sans-serif; font-size: 12px; fill: rgb(42, 63, 95); fill-opacity: 1; white-space: pre; opacity: 1;\" transform=\"translate(207.2,0)\">4</text></g><g class=\"xtick\"><text text-anchor=\"middle\" x=\"0\" y=\"433\" style=\"font-family: 'Open Sans', verdana, arial, sans-serif; font-size: 12px; fill: rgb(42, 63, 95); fill-opacity: 1; white-space: pre; opacity: 1;\" transform=\"translate(279.88,0)\">6</text></g><g class=\"xtick\"><text text-anchor=\"middle\" x=\"0\" y=\"433\" style=\"font-family: 'Open Sans', verdana, arial, sans-serif; font-size: 12px; fill: rgb(42, 63, 95); fill-opacity: 1; white-space: pre; opacity: 1;\" transform=\"translate(352.56,0)\">8</text></g><g class=\"xtick\"><text text-anchor=\"middle\" x=\"0\" y=\"433\" style=\"font-family: 'Open Sans', verdana, arial, sans-serif; font-size: 12px; fill: rgb(42, 63, 95); fill-opacity: 1; white-space: pre; opacity: 1;\" transform=\"translate(425.25,0)\">10</text></g><g class=\"xtick\"><text text-anchor=\"middle\" x=\"0\" y=\"433\" style=\"font-family: 'Open Sans', verdana, arial, sans-serif; font-size: 12px; fill: rgb(42, 63, 95); fill-opacity: 1; white-space: pre; opacity: 1;\" transform=\"translate(497.93,0)\">12</text></g></g><g class=\"yaxislayer-above\"><g class=\"ytick\"><text text-anchor=\"end\" x=\"79\" y=\"4.199999999999999\" transform=\"translate(0,420.00000000000006)\" style=\"font-family: 'Open Sans', verdana, arial, sans-serif; font-size: 12px; fill: rgb(42, 63, 95); fill-opacity: 1; white-space: pre; opacity: 1;\">0</text></g><g class=\"ytick\"><text text-anchor=\"end\" x=\"79\" y=\"4.199999999999999\" style=\"font-family: 'Open Sans', verdana, arial, sans-serif; font-size: 12px; fill: rgb(42, 63, 95); fill-opacity: 1; white-space: pre; opacity: 1;\" transform=\"translate(0,370.18000000000006)\">5k</text></g><g class=\"ytick\"><text text-anchor=\"end\" x=\"79\" y=\"4.199999999999999\" style=\"font-family: 'Open Sans', verdana, arial, sans-serif; font-size: 12px; fill: rgb(42, 63, 95); fill-opacity: 1; white-space: pre; opacity: 1;\" transform=\"translate(0,320.36000000000007)\">10k</text></g></g><g class=\"overaxes-above\"/></g><g class=\"subplot x2y2\"><g class=\"layer-subplot\"><g class=\"shapelayer\"/><g class=\"imagelayer\"/></g><g class=\"minor-gridlayer\"><g class=\"x2\"/><g class=\"y2\"/></g><g class=\"gridlayer\"><g class=\"x2\"/><g class=\"y2\"><path class=\"y2grid crisp\" transform=\"translate(0,246.58000000000004)\" d=\"M80,0h436.09999999999997\" style=\"stroke: rgb(255, 255, 255); stroke-opacity: 1; stroke-width: 1px;\"/><path class=\"y2grid crisp\" transform=\"translate(0,196.76000000000005)\" d=\"M80,0h436.09999999999997\" style=\"stroke: rgb(255, 255, 255); stroke-opacity: 1; stroke-width: 1px;\"/></g></g><g class=\"zerolinelayer\"><path class=\"y2zl zl crisp\" transform=\"translate(0,296.40000000000003)\" d=\"M80,0h436.09999999999997\" style=\"stroke: rgb(255, 255, 255); stroke-opacity: 1; stroke-width: 2px;\"/></g><g class=\"layer-between\"><g class=\"shapelayer\"/><g class=\"imagelayer\"/></g><path class=\"xlines-below\"/><path class=\"ylines-below\"/><g class=\"overlines-below\"/><g class=\"xaxislayer-below\"/><g class=\"yaxislayer-below\"/><g class=\"overaxes-below\"/><g class=\"plot\" transform=\"translate(80,183.60000000000005)\" clip-path=\"url(#clipff6166x2y2plot)\"><g class=\"barlayer mlayer\"><g class=\"trace bars\" style=\"opacity: 1;\"><g class=\"points\"><g class=\"point\"><path d=\"M3.63,112.8V42.34H32.71V112.8Z\" style=\"vector-effect: none; opacity: 1; stroke-width: 0.5px; fill: rgb(239, 85, 59); fill-opacity: 1; stroke: rgb(229, 236, 246); stroke-opacity: 1;\"/></g><g class=\"point\"><path d=\"M39.98,112.8V51.29H69.05V112.8Z\" style=\"vector-effect: none; opacity: 1; stroke-width: 0.5px; fill: rgb(239, 85, 59); fill-opacity: 1; stroke: rgb(229, 236, 246); stroke-opacity: 1;\"/></g><g class=\"point\"><path d=\"M76.32,112.8V68.43H105.39V112.8Z\" style=\"vector-effect: none; opacity: 1; stroke-width: 0.5px; fill: rgb(239, 85, 59); fill-opacity: 1; stroke: rgb(229, 236, 246); stroke-opacity: 1;\"/></g><g class=\"point\"><path d=\"M112.66,112.8V76.56H141.73V112.8Z\" style=\"vector-effect: none; opacity: 1; stroke-width: 0.5px; fill: rgb(239, 85, 59); fill-opacity: 1; stroke: rgb(229, 236, 246); stroke-opacity: 1;\"/></g><g class=\"point\"><path d=\"M149,112.8V71.07H178.07V112.8Z\" style=\"vector-effect: none; opacity: 1; stroke-width: 0.5px; fill: rgb(239, 85, 59); fill-opacity: 1; stroke: rgb(229, 236, 246); stroke-opacity: 1;\"/></g><g class=\"point\"><path d=\"M185.34,112.8V30.21H214.42V112.8Z\" style=\"vector-effect: none; opacity: 1; stroke-width: 0.5px; fill: rgb(239, 85, 59); fill-opacity: 1; stroke: rgb(229, 236, 246); stroke-opacity: 1;\"/></g><g class=\"point\"><path d=\"M221.68,112.8V5.64H250.76V112.8Z\" style=\"vector-effect: none; opacity: 1; stroke-width: 0.5px; fill: rgb(239, 85, 59); fill-opacity: 1; stroke: rgb(229, 236, 246); stroke-opacity: 1;\"/></g><g class=\"point\"><path d=\"M258.03,112.8V10.34H287.1V112.8Z\" style=\"vector-effect: none; opacity: 1; stroke-width: 0.5px; fill: rgb(239, 85, 59); fill-opacity: 1; stroke: rgb(229, 236, 246); stroke-opacity: 1;\"/></g><g class=\"point\"><path d=\"M294.37,112.8V12.56H323.44V112.8Z\" style=\"vector-effect: none; opacity: 1; stroke-width: 0.5px; fill: rgb(239, 85, 59); fill-opacity: 1; stroke: rgb(229, 236, 246); stroke-opacity: 1;\"/></g><g class=\"point\"><path d=\"M330.71,112.8V24.79H359.78V112.8Z\" style=\"vector-effect: none; opacity: 1; stroke-width: 0.5px; fill: rgb(239, 85, 59); fill-opacity: 1; stroke: rgb(229, 236, 246); stroke-opacity: 1;\"/></g><g class=\"point\"><path d=\"M367.05,112.8V54.29H396.12V112.8Z\" style=\"vector-effect: none; opacity: 1; stroke-width: 0.5px; fill: rgb(239, 85, 59); fill-opacity: 1; stroke: rgb(229, 236, 246); stroke-opacity: 1;\"/></g><g class=\"point\"><path d=\"M403.39,112.8V61.73H432.47V112.8Z\" style=\"vector-effect: none; opacity: 1; stroke-width: 0.5px; fill: rgb(239, 85, 59); fill-opacity: 1; stroke: rgb(229, 236, 246); stroke-opacity: 1;\"/></g></g></g></g></g><g class=\"overplot\"/><path class=\"xlines-above crisp\" d=\"M0,0\" style=\"fill: none;\"/><path class=\"ylines-above crisp\" d=\"M0,0\" style=\"fill: none;\"/><g class=\"overlines-above\"/><g class=\"xaxislayer-above\"/><g class=\"yaxislayer-above\"><g class=\"y2tick\"><text text-anchor=\"end\" x=\"79\" y=\"4.199999999999999\" transform=\"translate(0,296.40000000000003)\" style=\"font-family: 'Open Sans', verdana, arial, sans-serif; font-size: 12px; fill: rgb(42, 63, 95); fill-opacity: 1; white-space: pre; opacity: 1;\">0</text></g><g class=\"y2tick\"><text text-anchor=\"end\" x=\"79\" y=\"4.199999999999999\" style=\"font-family: 'Open Sans', verdana, arial, sans-serif; font-size: 12px; fill: rgb(42, 63, 95); fill-opacity: 1; white-space: pre; opacity: 1;\" transform=\"translate(0,246.58000000000004)\">5k</text></g><g class=\"y2tick\"><text text-anchor=\"end\" x=\"79\" y=\"4.199999999999999\" style=\"font-family: 'Open Sans', verdana, arial, sans-serif; font-size: 12px; fill: rgb(42, 63, 95); fill-opacity: 1; white-space: pre; opacity: 1;\" transform=\"translate(0,196.76000000000005)\">10k</text></g></g><g class=\"overaxes-above\"/></g><g class=\"subplot x3y3\"><g class=\"layer-subplot\"><g class=\"shapelayer\"/><g class=\"imagelayer\"/></g><g class=\"minor-gridlayer\"><g class=\"x3\"/><g class=\"y3\"/></g><g class=\"gridlayer\"><g class=\"x3\"/><g class=\"y3\"><path class=\"y3grid crisp\" transform=\"translate(0,122.98000000000008)\" d=\"M80,0h436.09999999999997\" style=\"stroke: rgb(255, 255, 255); stroke-opacity: 1; stroke-width: 1px;\"/><path class=\"y3grid crisp\" transform=\"translate(0,73.16000000000008)\" d=\"M80,0h436.09999999999997\" style=\"stroke: rgb(255, 255, 255); stroke-opacity: 1; stroke-width: 1px;\"/></g></g><g class=\"zerolinelayer\"><path class=\"y3zl zl crisp\" transform=\"translate(0,172.80000000000007)\" d=\"M80,0h436.09999999999997\" style=\"stroke: rgb(255, 255, 255); stroke-opacity: 1; stroke-width: 2px;\"/></g><g class=\"layer-between\"><g class=\"shapelayer\"/><g class=\"imagelayer\"/></g><path class=\"xlines-below\"/><path class=\"ylines-below\"/><g class=\"overlines-below\"/><g class=\"xaxislayer-below\"/><g class=\"yaxislayer-below\"/><g class=\"overaxes-below\"/><g class=\"plot\" transform=\"translate(80,60.00000000000008)\" clip-path=\"url(#clipff6166x3y3plot)\"><g class=\"barlayer mlayer\"><g class=\"trace bars\" style=\"opacity: 1;\"><g class=\"points\"><g class=\"point\"><path d=\"M3.63,112.8V92.79H32.71V112.8Z\" style=\"vector-effect: none; opacity: 1; stroke-width: 0.5px; fill: rgb(99, 110, 250); fill-opacity: 1; stroke: rgb(229, 236, 246); stroke-opacity: 1;\"/></g><g class=\"point\"><path d=\"M39.98,112.8V88.36H69.05V112.8Z\" style=\"vector-effect: none; opacity: 1; stroke-width: 0.5px; fill: rgb(99, 110, 250); fill-opacity: 1; stroke: rgb(229, 236, 246); stroke-opacity: 1;\"/></g><g class=\"point\"><path d=\"M76.32,112.8V92.36H105.39V112.8Z\" style=\"vector-effect: none; opacity: 1; stroke-width: 0.5px; fill: rgb(99, 110, 250); fill-opacity: 1; stroke: rgb(229, 236, 246); stroke-opacity: 1;\"/></g><g class=\"point\"><path d=\"M112.66,112.8V78.54H141.73V112.8Z\" style=\"vector-effect: none; opacity: 1; stroke-width: 0.5px; fill: rgb(99, 110, 250); fill-opacity: 1; stroke: rgb(229, 236, 246); stroke-opacity: 1;\"/></g><g class=\"point\"><path d=\"M149,112.8V69.52H178.07V112.8Z\" style=\"vector-effect: none; opacity: 1; stroke-width: 0.5px; fill: rgb(99, 110, 250); fill-opacity: 1; stroke: rgb(229, 236, 246); stroke-opacity: 1;\"/></g><g class=\"point\"><path d=\"M185.34,112.8V69.45H214.42V112.8Z\" style=\"vector-effect: none; opacity: 1; stroke-width: 0.5px; fill: rgb(99, 110, 250); fill-opacity: 1; stroke: rgb(229, 236, 246); stroke-opacity: 1;\"/></g><g class=\"point\"><path d=\"M221.68,112.8V68.3H250.76V112.8Z\" style=\"vector-effect: none; opacity: 1; stroke-width: 0.5px; fill: rgb(99, 110, 250); fill-opacity: 1; stroke: rgb(229, 236, 246); stroke-opacity: 1;\"/></g><g class=\"point\"><path d=\"M258.03,112.8V70.06H287.1V112.8Z\" style=\"vector-effect: none; opacity: 1; stroke-width: 0.5px; fill: rgb(99, 110, 250); fill-opacity: 1; stroke: rgb(229, 236, 246); stroke-opacity: 1;\"/></g><g class=\"point\"><path d=\"M294.37,112.8V76.32H323.44V112.8Z\" style=\"vector-effect: none; opacity: 1; stroke-width: 0.5px; fill: rgb(99, 110, 250); fill-opacity: 1; stroke: rgb(229, 236, 246); stroke-opacity: 1;\"/></g><g class=\"point\"><path d=\"M330.71,112.8V85.29H359.78V112.8Z\" style=\"vector-effect: none; opacity: 1; stroke-width: 0.5px; fill: rgb(99, 110, 250); fill-opacity: 1; stroke: rgb(229, 236, 246); stroke-opacity: 1;\"/></g><g class=\"point\"><path d=\"M367.05,112.8V91.54H396.12V112.8Z\" style=\"vector-effect: none; opacity: 1; stroke-width: 0.5px; fill: rgb(99, 110, 250); fill-opacity: 1; stroke: rgb(229, 236, 246); stroke-opacity: 1;\"/></g><g class=\"point\"><path d=\"M403.39,112.8V97.04H432.47V112.8Z\" style=\"vector-effect: none; opacity: 1; stroke-width: 0.5px; fill: rgb(99, 110, 250); fill-opacity: 1; stroke: rgb(229, 236, 246); stroke-opacity: 1;\"/></g></g></g></g></g><g class=\"overplot\"/><path class=\"xlines-above crisp\" d=\"M0,0\" style=\"fill: none;\"/><path class=\"ylines-above crisp\" d=\"M0,0\" style=\"fill: none;\"/><g class=\"overlines-above\"/><g class=\"xaxislayer-above\"/><g class=\"yaxislayer-above\"><g class=\"y3tick\"><text text-anchor=\"end\" x=\"79\" y=\"4.199999999999999\" transform=\"translate(0,172.80000000000007)\" style=\"font-family: 'Open Sans', verdana, arial, sans-serif; font-size: 12px; fill: rgb(42, 63, 95); fill-opacity: 1; white-space: pre; opacity: 1;\">0</text></g><g class=\"y3tick\"><text text-anchor=\"end\" x=\"79\" y=\"4.199999999999999\" style=\"font-family: 'Open Sans', verdana, arial, sans-serif; font-size: 12px; fill: rgb(42, 63, 95); fill-opacity: 1; white-space: pre; opacity: 1;\" transform=\"translate(0,122.98000000000008)\">5k</text></g><g class=\"y3tick\"><text text-anchor=\"end\" x=\"79\" y=\"4.199999999999999\" style=\"font-family: 'Open Sans', verdana, arial, sans-serif; font-size: 12px; fill: rgb(42, 63, 95); fill-opacity: 1; white-space: pre; opacity: 1;\" transform=\"translate(0,73.16000000000008)\">10k</text></g></g><g class=\"overaxes-above\"/></g></g><g class=\"polarlayer\"/><g class=\"smithlayer\"/><g class=\"ternarylayer\"/><g class=\"geolayer\"/><g class=\"funnelarealayer\"/><g class=\"pielayer\"/><g class=\"iciclelayer\"/><g class=\"treemaplayer\"/><g class=\"sunburstlayer\"/><g class=\"glimages\"/><defs id=\"topdefs-ff6166\"><g class=\"clips\"/><clipPath id=\"legendff6166\"><rect width=\"154\" height=\"86\" x=\"0\" y=\"0\"/></clipPath></defs><g class=\"layer-above\"><g class=\"imagelayer\"/><g class=\"shapelayer\"/></g><g class=\"infolayer\"><g class=\"legend\" pointer-events=\"all\" transform=\"translate(533.9000000000001,60)\"><rect class=\"bg\" shape-rendering=\"crispEdges\" style=\"stroke: rgb(68, 68, 68); stroke-opacity: 1; fill: rgb(255, 255, 255); fill-opacity: 1; stroke-width: 0px;\" width=\"154\" height=\"86\" x=\"0\" y=\"0\"/><g class=\"scrollbox\" transform=\"\" clip-path=\"url(#legendff6166)\"><text class=\"legendtitletext\" text-anchor=\"start\" x=\"2\" y=\"18.2\" style=\"font-family: 'Open Sans', verdana, arial, sans-serif; font-size: 14px; fill: rgb(42, 63, 95); fill-opacity: 1; white-space: pre;\">variable</text><g class=\"groups\" transform=\"\"><g class=\"traces\" transform=\"translate(0,32.7)\" style=\"opacity: 1;\"><text class=\"legendtext\" text-anchor=\"start\" x=\"40\" y=\"4.680000000000001\" style=\"font-family: 'Open Sans', verdana, arial, sans-serif; font-size: 12px; fill: rgb(42, 63, 95); fill-opacity: 1; white-space: pre;\">Solar Photovoltaic</text><g class=\"layers\" style=\"opacity: 1;\"><g class=\"legendfill\"/><g class=\"legendlines\"/><g class=\"legendsymbols\"><g class=\"legendpoints\"><path class=\"legendundefined\" d=\"M6,6H-6V-6H6Z\" transform=\"translate(20,0)\" style=\"stroke-width: 0.5px; fill: rgb(99, 110, 250); fill-opacity: 1; stroke: rgb(229, 236, 246); stroke-opacity: 1;\"/></g></g></g><rect class=\"legendtoggle\" x=\"0\" y=\"-9.5\" width=\"148.609375\" height=\"19\" style=\"fill: rgb(0, 0, 0); fill-opacity: 0;\"/></g></g><g class=\"groups\" transform=\"\"><g class=\"traces\" transform=\"translate(0,51.7)\" style=\"opacity: 1;\"><text class=\"legendtext\" text-anchor=\"start\" x=\"40\" y=\"4.680000000000001\" style=\"font-family: 'Open Sans', verdana, arial, sans-serif; font-size: 12px; fill: rgb(42, 63, 95); fill-opacity: 1; white-space: pre;\">Combined Cycle</text><g class=\"layers\" style=\"opacity: 1;\"><g class=\"legendfill\"/><g class=\"legendlines\"/><g class=\"legendsymbols\"><g class=\"legendpoints\"><path class=\"legendundefined\" d=\"M6,6H-6V-6H6Z\" transform=\"translate(20,0)\" style=\"stroke-width: 0.5px; fill: rgb(239, 85, 59); fill-opacity: 1; stroke: rgb(229, 236, 246); stroke-opacity: 1;\"/></g></g></g><rect class=\"legendtoggle\" x=\"0\" y=\"-9.5\" width=\"148.609375\" height=\"19\" style=\"fill: rgb(0, 0, 0); fill-opacity: 0;\"/></g></g><g class=\"groups\" transform=\"\"><g class=\"traces\" transform=\"translate(0,70.7)\" style=\"opacity: 1;\"><text class=\"legendtext\" text-anchor=\"start\" x=\"40\" y=\"4.680000000000001\" style=\"font-family: 'Open Sans', verdana, arial, sans-serif; font-size: 12px; fill: rgb(42, 63, 95); fill-opacity: 1; white-space: pre;\">Wind</text><g class=\"layers\" style=\"opacity: 1;\"><g class=\"legendfill\"/><g class=\"legendlines\"/><g class=\"legendsymbols\"><g class=\"legendpoints\"><path class=\"legendundefined\" d=\"M6,6H-6V-6H6Z\" transform=\"translate(20,0)\" style=\"stroke-width: 0.5px; fill: rgb(0, 204, 150); fill-opacity: 1; stroke: rgb(229, 236, 246); stroke-opacity: 1;\"/></g></g></g><rect class=\"legendtoggle\" x=\"0\" y=\"-9.5\" width=\"148.609375\" height=\"19\" style=\"fill: rgb(0, 0, 0); fill-opacity: 0;\"/></g></g></g><rect class=\"scrollbar\" rx=\"20\" ry=\"3\" width=\"0\" height=\"0\" style=\"fill: rgb(128, 139, 164); fill-opacity: 1;\" x=\"0\" y=\"0\"/></g><g class=\"g-gtitle\"/><g class=\"g-xtitle\"><text class=\"xtitle\" x=\"298.04999999999995\" y=\"459.8\" text-anchor=\"middle\" style=\"font-family: 'Open Sans', verdana, arial, sans-serif; font-size: 14px; fill: rgb(42, 63, 95); opacity: 1; white-space: pre;\">month</text></g><g class=\"g-x2title\"/><g class=\"g-x3title\"/><g class=\"g-ytitle\"><text class=\"ytitle\" transform=\"rotate(-90,37.240625,363.6)\" x=\"37.240625\" y=\"363.6\" text-anchor=\"middle\" style=\"font-family: 'Open Sans', verdana, arial, sans-serif; font-size: 14px; fill: rgb(42, 63, 95); opacity: 1; white-space: pre;\">value</text></g><g class=\"g-y2title\"><text class=\"y2title\" transform=\"rotate(-90,37.240625,240.00000000000003)\" x=\"37.240625\" y=\"240.00000000000003\" text-anchor=\"middle\" style=\"font-family: 'Open Sans', verdana, arial, sans-serif; font-size: 14px; fill: rgb(42, 63, 95); opacity: 1; white-space: pre;\">value</text></g><g class=\"g-y3title\"><text class=\"y3title\" transform=\"rotate(-90,37.240625,116.40000000000006)\" x=\"37.240625\" y=\"116.40000000000006\" text-anchor=\"middle\" style=\"font-family: 'Open Sans', verdana, arial, sans-serif; font-size: 14px; fill: rgb(42, 63, 95); opacity: 1; white-space: pre;\">value</text></g><g class=\"annotation\" data-index=\"0\" style=\"opacity: 1;\"><g class=\"annotation-text-g\" transform=\"rotate(90,525.5999999999999,363.6)\"><g class=\"cursor-pointer\" transform=\"translate(480,354)\"><rect class=\"bg\" x=\"0.5\" y=\"0.5\" width=\"91\" height=\"18\" style=\"stroke-width: 1px; stroke: rgb(0, 0, 0); stroke-opacity: 0; fill: rgb(0, 0, 0); fill-opacity: 0;\"/><text class=\"annotation-text\" text-anchor=\"middle\" x=\"45.953125\" y=\"14\" style=\"font-family: 'Open Sans', verdana, arial, sans-serif; font-size: 12px; fill: rgb(42, 63, 95); fill-opacity: 1; white-space: pre;\">variable=Wind</text></g></g></g><g class=\"annotation\" data-index=\"1\" style=\"opacity: 1;\"><g class=\"annotation-text-g\" transform=\"rotate(90,525.5999999999999,240.00000000000003)\"><g class=\"cursor-pointer\" transform=\"translate(447,231)\"><rect class=\"bg\" x=\"0.5\" y=\"0.5\" width=\"157\" height=\"18\" style=\"stroke-width: 1px; stroke: rgb(0, 0, 0); stroke-opacity: 0; fill: rgb(0, 0, 0); fill-opacity: 0;\"/><text class=\"annotation-text\" text-anchor=\"middle\" x=\"79.203125\" y=\"14\" style=\"font-family: 'Open Sans', verdana, arial, sans-serif; font-size: 12px; fill: rgb(42, 63, 95); fill-opacity: 1; white-space: pre;\">variable=Combined Cycle</text></g></g></g><g class=\"annotation\" data-index=\"2\" style=\"opacity: 1;\"><g class=\"annotation-text-g\" transform=\"rotate(90,525.5999999999999,116.40000000000006)\"><g class=\"cursor-pointer\" transform=\"translate(441,107)\"><rect class=\"bg\" x=\"0.5\" y=\"0.5\" width=\"169\" height=\"18\" style=\"stroke-width: 1px; stroke: rgb(0, 0, 0); stroke-opacity: 0; fill: rgb(0, 0, 0); fill-opacity: 0;\"/><text class=\"annotation-text\" text-anchor=\"middle\" x=\"85.140625\" y=\"14\" style=\"font-family: 'Open Sans', verdana, arial, sans-serif; font-size: 12px; fill: rgb(42, 63, 95); fill-opacity: 1; white-space: pre;\">variable=Solar Photovoltaic</text></g></g></g></g></svg>"
      ]
     },
     "execution_count": null,
     "metadata": {},
     "output_type": "display_data"
    }
   ],
   "source": []
  },
  {
   "cell_type": "markdown",
   "id": "0c586136",
   "metadata": {
    "papermill": {
     "duration": 0.001526,
     "end_time": "2024-06-15T23:13:25.953919",
     "exception": false,
     "start_time": "2024-06-15T23:13:25.952393",
     "status": "completed"
    },
    "tags": []
   },
   "source": [
    "## Options"
   ]
  },
  {
   "cell_type": "code",
   "execution_count": null,
   "id": "f405547d",
   "metadata": {
    "execution": {
     "iopub.execute_input": "2024-06-15T23:13:25.957721Z",
     "iopub.status.busy": "2024-06-15T23:13:25.957594Z",
     "iopub.status.idle": "2024-06-15T23:13:25.959680Z",
     "shell.execute_reply": "2024-06-15T23:13:25.959310Z"
    },
    "papermill": {
     "duration": 0.005072,
     "end_time": "2024-06-15T23:13:25.960606",
     "exception": false,
     "start_time": "2024-06-15T23:13:25.955534",
     "status": "completed"
    },
    "tags": []
   },
   "outputs": [],
   "source": []
  },
  {
   "cell_type": "code",
   "execution_count": null,
   "id": "e5957b33",
   "metadata": {
    "execution": {
     "iopub.execute_input": "2024-06-15T23:13:25.964639Z",
     "iopub.status.busy": "2024-06-15T23:13:25.964524Z",
     "iopub.status.idle": "2024-06-15T23:13:25.967904Z",
     "shell.execute_reply": "2024-06-15T23:13:25.967646Z"
    },
    "papermill": {
     "duration": 0.006314,
     "end_time": "2024-06-15T23:13:25.968743",
     "exception": false,
     "start_time": "2024-06-15T23:13:25.962429",
     "status": "completed"
    },
    "tags": []
   },
   "outputs": [
    {
     "data": {
      "text/plain": [
       "{'year': [2015, 2016, 2017, 2018, 2019, 2020, 2021, 2022],\n",
       " 'granularity': ['month', 'day', 'hour', 'weekday', 'weekend'],\n",
       " 'columns': ['Hydraulic',\n",
       "  'Adjustment P48',\n",
       "  'Balance Andorra',\n",
       "  'Balance Morocco',\n",
       "  'Balance France',\n",
       "  'Balance Portugal',\n",
       "  'Other Renewables',\n",
       "  'Non-Renewable Waste',\n",
       "  'Cogeneration',\n",
       "  'Wind',\n",
       "  'Fuel-Gas',\n",
       "  'Coal',\n",
       "  'Balearic Link',\n",
       "  'Pumping Consumption',\n",
       "  'Solar Thermal',\n",
       "  'Solar Photovoltaic',\n",
       "  'Combined Cycle',\n",
       "  'Pumping Turbine',\n",
       "  'Nuclear'],\n",
       " 'aggfunc': ['sum', 'mean', 'median', 'std', 'min', 'max']}"
      ]
     },
     "execution_count": null,
     "metadata": {},
     "output_type": "execute_result"
    }
   ],
   "source": []
  },
  {
   "cell_type": "code",
   "execution_count": null,
   "id": "f248f262",
   "metadata": {
    "execution": {
     "iopub.execute_input": "2024-06-15T23:13:25.973296Z",
     "iopub.status.busy": "2024-06-15T23:13:25.973140Z",
     "iopub.status.idle": "2024-06-15T23:13:25.975319Z",
     "shell.execute_reply": "2024-06-15T23:13:25.975078Z"
    },
    "papermill": {
     "duration": 0.005229,
     "end_time": "2024-06-15T23:13:25.976070",
     "exception": false,
     "start_time": "2024-06-15T23:13:25.970841",
     "status": "completed"
    },
    "tags": []
   },
   "outputs": [],
   "source": []
  }
 ],
 "metadata": {
  "kernelspec": {
   "display_name": "base",
   "language": "python",
   "name": "python3"
  },
  "language_info": {
   "codemirror_mode": {
    "name": "ipython",
    "version": 3
   },
   "file_extension": ".py",
   "mimetype": "text/x-python",
   "name": "python",
   "nbconvert_exporter": "python",
   "pygments_lexer": "ipython3",
   "version": "3.12.3"
  },
  "papermill": {
   "default_parameters": {},
   "duration": 1.717499,
   "end_time": "2024-06-15T23:13:26.196329",
   "environment_variables": {},
   "exception": null,
   "input_path": "/Users/sota/Library/CloudStorage/Dropbox/2 Business/1 Datons/2 Areas/Courses/2 Catalogue/10 DF/1 Materials/DF-P/notebooks/30_Groupby/3_Backend II/B_Solution.ipynb",
   "output_path": "/Users/sota/Library/CloudStorage/Dropbox/2 Business/1 Datons/2 Areas/Courses/2 Catalogue/10 DF/1 Materials/DF-P/notebooks/30_Groupby/3_Backend II/B_Solution.ipynb",
   "parameters": {},
   "start_time": "2024-06-15T23:13:24.478830",
   "version": "2.6.0"
  }
 },
 "nbformat": 4,
 "nbformat_minor": 5
}
